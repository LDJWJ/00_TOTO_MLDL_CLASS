{
 "cells": [
  {
   "cell_type": "markdown",
   "metadata": {
    "collapsed": true
   },
   "source": [
    "### 딥러닝 모델 구현하기\n",
    "* tensorflow를 활용하여 Bike데이터를 활용하여 딥러닝 모델을 구현해 보았음.\n",
    "* tensorflow 활용한 딥러닝 모델 구현\n",
    "* tf version(1.14.0)\n",
    "* 설치(로컬).CPU버전 : pip install tensorflow==1.14.0"
   ]
  },
  {
   "cell_type": "markdown",
   "metadata": {},
   "source": [
    "<a href=\"https://colab.research.google.com/github/frontier1020/colabstart/blob/master/ch03.ipynb\" target=\"_parent\"><img src=\"https://colab.research.google.com/assets/colab-badge.svg\" alt=\"Open In Colab\"/></a>"
   ]
  },
  {
   "cell_type": "code",
   "execution_count": 1,
   "metadata": {},
   "outputs": [
    {
     "name": "stderr",
     "output_type": "stream",
     "text": [
      "/home/nbuser/anaconda3_420/lib/python3.5/site-packages/tensorflow/python/framework/dtypes.py:455: FutureWarning: Passing (type, 1) or '1type' as a synonym of type is deprecated; in a future version of numpy, it will be understood as (type, (1,)) / '(1,)type'.\n",
      "  _np_qint8 = np.dtype([(\"qint8\", np.int8, 1)])\n",
      "/home/nbuser/anaconda3_420/lib/python3.5/site-packages/tensorflow/python/framework/dtypes.py:456: FutureWarning: Passing (type, 1) or '1type' as a synonym of type is deprecated; in a future version of numpy, it will be understood as (type, (1,)) / '(1,)type'.\n",
      "  _np_quint8 = np.dtype([(\"quint8\", np.uint8, 1)])\n",
      "/home/nbuser/anaconda3_420/lib/python3.5/site-packages/tensorflow/python/framework/dtypes.py:457: FutureWarning: Passing (type, 1) or '1type' as a synonym of type is deprecated; in a future version of numpy, it will be understood as (type, (1,)) / '(1,)type'.\n",
      "  _np_qint16 = np.dtype([(\"qint16\", np.int16, 1)])\n",
      "/home/nbuser/anaconda3_420/lib/python3.5/site-packages/tensorflow/python/framework/dtypes.py:458: FutureWarning: Passing (type, 1) or '1type' as a synonym of type is deprecated; in a future version of numpy, it will be understood as (type, (1,)) / '(1,)type'.\n",
      "  _np_quint16 = np.dtype([(\"quint16\", np.uint16, 1)])\n",
      "/home/nbuser/anaconda3_420/lib/python3.5/site-packages/tensorflow/python/framework/dtypes.py:459: FutureWarning: Passing (type, 1) or '1type' as a synonym of type is deprecated; in a future version of numpy, it will be understood as (type, (1,)) / '(1,)type'.\n",
      "  _np_qint32 = np.dtype([(\"qint32\", np.int32, 1)])\n",
      "/home/nbuser/anaconda3_420/lib/python3.5/site-packages/tensorflow/python/framework/dtypes.py:462: FutureWarning: Passing (type, 1) or '1type' as a synonym of type is deprecated; in a future version of numpy, it will be understood as (type, (1,)) / '(1,)type'.\n",
      "  np_resource = np.dtype([(\"resource\", np.ubyte, 1)])\n"
     ]
    }
   ],
   "source": [
    "import pandas as pd\n",
    "import tensorflow as tf\n",
    "import numpy as np"
   ]
  },
  {
   "cell_type": "code",
   "execution_count": 2,
   "metadata": {},
   "outputs": [
    {
     "name": "stdout",
     "output_type": "stream",
     "text": [
      "1.1.0\n",
      "1.17.3\n",
      "0.19.2\n"
     ]
    }
   ],
   "source": [
    "print(tf.__version__)\n",
    "print(np.__version__)\n",
    "print(pd.__version__)"
   ]
  },
  {
   "cell_type": "code",
   "execution_count": 5,
   "metadata": {},
   "outputs": [
    {
     "name": "stdout",
     "output_type": "stream",
     "text": [
      "DL01_03_DL_Model_v10.ipynb     iris.csv\t\t\t  test_bike.csv\r\n",
      "DL01_Python_Library_v10.ipynb  iris.xlsx\t\t  test.csv\r\n",
      "DL02_01_FirstModel_v10.ipynb   knn_first_model.csv\t  train_bike.csv\r\n",
      "DL02_02_Keras_MNIST.ipynb      model\t\t\t  train.csv\r\n",
      "DL02_03_TF_Bike.ipynb\t       README.md\t\t  train_modified.csv\r\n",
      "gender_submission.csv\t       sampleSubmission_bike.csv\r\n"
     ]
    }
   ],
   "source": [
    "!ls"
   ]
  },
  {
   "cell_type": "code",
   "execution_count": 7,
   "metadata": {},
   "outputs": [],
   "source": [
    "train = pd.read_csv(\"./train_bike.csv\", parse_dates=['datetime'])\n",
    "test = pd.read_csv(\"./test_bike.csv\", parse_dates=['datetime'])\n",
    "sub = pd.read_csv(\"./sampleSubmission_bike.csv\")"
   ]
  },
  {
   "cell_type": "code",
   "execution_count": 10,
   "metadata": {},
   "outputs": [
    {
     "name": "stdout",
     "output_type": "stream",
     "text": [
      "Index(['datetime', 'season', 'holiday', 'workingday', 'weather', 'temp',\n",
      "       'atemp', 'humidity', 'windspeed', 'casual', 'registered', 'count'],\n",
      "      dtype='object')\n",
      "Index(['datetime', 'season', 'holiday', 'workingday', 'weather', 'temp',\n",
      "       'atemp', 'humidity', 'windspeed'],\n",
      "      dtype='object')\n",
      "Index(['datetime', 'count'], dtype='object')\n",
      "(10886, 12)\n",
      "(6493, 9)\n",
      "(6493, 2)\n"
     ]
    }
   ],
   "source": [
    "print(train.columns)\n",
    "print(test.columns)\n",
    "print(sub.columns)\n",
    "\n",
    "print(train.shape)\n",
    "print(test.shape)\n",
    "print(sub.shape)"
   ]
  },
  {
   "cell_type": "code",
   "execution_count": 26,
   "metadata": {},
   "outputs": [
    {
     "name": "stdout",
     "output_type": "stream",
     "text": [
      "<class 'pandas.core.frame.DataFrame'>\n",
      "<class 'numpy.ndarray'>\n"
     ]
    }
   ],
   "source": [
    "x_data = train[input_col]    # 입력 X\n",
    "y_data = train[labeled_col]  # 출력 Y (target)\n",
    "x_test = test[input_col]     # test을 위한 입력 X\n",
    "print(type(x_data))\n",
    "\n",
    "# 자료형을 numpy로 변환\n",
    "x_data = np.array(x_data)   \n",
    "x_test = np.array(x_test)\n",
    "y_data = np.array(y_data)\n",
    "print(type(x_data))"
   ]
  },
  {
   "cell_type": "code",
   "execution_count": 27,
   "metadata": {},
   "outputs": [],
   "source": [
    "# input_col = [ 'temp', 'atemp']\n",
    "# input(컬럼1개), target(컬럼1개)\n",
    "input_col = ['temp']\n",
    "labeled_col = ['count']"
   ]
  },
  {
   "cell_type": "code",
   "execution_count": 28,
   "metadata": {},
   "outputs": [],
   "source": [
    "# weight와 bias 지정\n",
    "W1 = tf.Variable(tf.random_uniform([1], -1.0, 1.0))\n",
    "b = tf.Variable(tf.random_uniform([1], -1.0, 1.0))"
   ]
  },
  {
   "cell_type": "code",
   "execution_count": 29,
   "metadata": {},
   "outputs": [],
   "source": [
    "# X의 값, Y의 값 플레이스홀더 지정\n",
    "X1 = tf.placeholder(tf.float32, name=\"X1\")\n",
    "Y = tf.placeholder(tf.float32, name=\"Y\")"
   ]
  },
  {
   "cell_type": "code",
   "execution_count": 30,
   "metadata": {},
   "outputs": [],
   "source": [
    "# hypothesis = W1 * X1 + W2 * X2 + b\n",
    "hypothesis = W1 * X1 + b"
   ]
  },
  {
   "cell_type": "code",
   "execution_count": 31,
   "metadata": {},
   "outputs": [],
   "source": [
    "### 비용함수, 최적화 함수\n",
    "cost = tf.reduce_mean(tf.square(hypothesis - Y))\n",
    "optimizer = tf.train.GradientDescentOptimizer(learning_rate=0.001)\n",
    "train_op = optimizer.minimize(cost)"
   ]
  },
  {
   "cell_type": "markdown",
   "metadata": {},
   "source": [
    "### 학습하기"
   ]
  },
  {
   "cell_type": "code",
   "execution_count": 32,
   "metadata": {},
   "outputs": [
    {
     "name": "stdout",
     "output_type": "stream",
     "text": [
      "0 67611.55 [8.882034] [0.27589408]\n",
      "10 27709.473 [9.417362] [0.31377265]\n",
      "20 27709.455 [9.416727] [0.328536]\n",
      "30 27709.42 [9.416092] [0.34326163]\n",
      "40 27709.408 [9.415462] [0.35794902]\n",
      "50 27709.385 [9.414829] [0.3725985]\n",
      "60 27709.38 [9.4142] [0.38721055]\n",
      "70 27709.34 [9.413573] [0.40178475]\n",
      "80 27709.324 [9.412947] [0.41632134]\n",
      "90 27709.293 [9.412322] [0.43082064]\n",
      "(6493, 1)\n",
      "<class 'numpy.ndarray'>\n",
      "[[100.773224]\n",
      " [100.773224]\n",
      " [100.773224]\n",
      " [100.773224]\n",
      " [100.773224]]\n"
     ]
    },
    {
     "data": {
      "text/plain": [
       "(6493,)"
      ]
     },
     "execution_count": 32,
     "metadata": {},
     "output_type": "execute_result"
    }
   ],
   "source": [
    "with tf.Session() as sess:\n",
    "    sess.run(tf.global_variables_initializer())\n",
    "    for step in range(100):\n",
    "        _, cost_val = sess.run([train_op, cost], feed_dict={X1:x_data, Y:y_data})\n",
    "        \n",
    "        if step%10==0:\n",
    "            print(step, cost_val, sess.run(W1), sess.run(b))\n",
    "            \n",
    "        \n",
    "    pred = sess.run(hypothesis, feed_dict={X1:x_test})\n",
    "    \n",
    "print(pred.shape)\n",
    "print(type(pred))\n",
    "print(pred[0:5])\n",
    "pred = pred.reshape(-1,)\n",
    "pred.shape"
   ]
  },
  {
   "cell_type": "markdown",
   "metadata": {},
   "source": [
    "### 값을 예측하고, csv파일 만들기"
   ]
  },
  {
   "cell_type": "code",
   "execution_count": 34,
   "metadata": {},
   "outputs": [
    {
     "name": "stdout",
     "output_type": "stream",
     "text": [
      "Index(['datetime', 'count'], dtype='object')\n"
     ]
    }
   ],
   "source": [
    "dat = pd.DataFrame({'count':pred})\n",
    "print(sub.columns)\n",
    "sub['count'] = dat['count']\n",
    "sub.to_csv(\"tf_pred.csv\", index=False)"
   ]
  },
  {
   "cell_type": "markdown",
   "metadata": {},
   "source": [
    "### 제출하고 확인해 보기"
   ]
  },
  {
   "cell_type": "markdown",
   "metadata": {},
   "source": [
    "### 실습과제 : 변수를 두개를 가지고 수행해 보기"
   ]
  },
  {
   "cell_type": "markdown",
   "metadata": {},
   "source": [
    "### 그렇다면 변수가 계속 늘어난다면 식을 하나 하나 구현해야만 할까?"
   ]
  },
  {
   "cell_type": "markdown",
   "metadata": {},
   "source": [
    "### 행렬 연산을 활용한 딥러닝 모델 만들어보기"
   ]
  },
  {
   "cell_type": "code",
   "execution_count": 35,
   "metadata": {},
   "outputs": [
    {
     "name": "stdout",
     "output_type": "stream",
     "text": [
      "(10886, 2) (10886, 1)\n"
     ]
    }
   ],
   "source": [
    "input_col = [ 'temp', 'atemp']\n",
    "labeled_col = ['count']\n",
    "\n",
    "x_data = train[input_col]\n",
    "y_data = train[labeled_col]\n",
    "\n",
    "x_test = test[input_col]\n",
    "\n",
    "x_data = np.array(x_data)\n",
    "y_data = np.array(y_data)\n",
    "print(x_data.shape, y_data.shape)"
   ]
  },
  {
   "cell_type": "code",
   "execution_count": 36,
   "metadata": {},
   "outputs": [],
   "source": [
    "X1 = tf.placeholder(tf.float32, [None, 2], name=\"X1\")\n",
    "Y = tf.placeholder(tf.float32, [None, 1], name=\"Y\")\n",
    "\n",
    "W1 = tf.Variable(tf.random_uniform([2, 1], -1.0, 1.0))\n",
    "b = tf.Variable(tf.random_uniform([1], -1.0, 1.0))"
   ]
  },
  {
   "cell_type": "code",
   "execution_count": 37,
   "metadata": {},
   "outputs": [
    {
     "data": {
      "text/plain": [
       "<tf.Tensor 'add_5:0' shape=(?, 1) dtype=float32>"
      ]
     },
     "execution_count": 37,
     "metadata": {},
     "output_type": "execute_result"
    }
   ],
   "source": [
    "# X = tf.placeholder(tf.float32, [None, 2])   # [? * 2] X [2 * 1] => ? X 1 \n",
    "# W = tf.Variable(tf.random_normal([2,1]))\n",
    "\n",
    "hypothesis = tf.matmul(X1, W1) + b\n",
    "hypothesis"
   ]
  },
  {
   "cell_type": "code",
   "execution_count": 38,
   "metadata": {},
   "outputs": [],
   "source": [
    "### 비용함수, 최적화 함수\n",
    "cost = tf.reduce_mean(tf.square(hypothesis - Y))\n",
    "optimizer = tf.train.GradientDescentOptimizer(learning_rate=0.0001)\n",
    "train_op = optimizer.minimize(cost)"
   ]
  },
  {
   "cell_type": "code",
   "execution_count": 39,
   "metadata": {},
   "outputs": [
    {
     "name": "stdout",
     "output_type": "stream",
     "text": [
      "0 68618.734 [1.3723395] [0.6773341]\n",
      "10 28011.037 [4.2246113] [3.9685338]\n",
      "20 27730.379 [4.46882] [4.235961]\n",
      "30 27728.36 [4.4962306] [4.252066]\n",
      "40 27728.223 [4.5056043] [4.2472954]\n",
      "50 27728.133 [4.513463] [4.240803]\n",
      "60 27728.012 [4.521179] [4.2341824]\n",
      "70 27727.906 [4.5288677] [4.227564]\n",
      "80 27727.807 [4.536538] [4.220959]\n",
      "90 27727.691 [4.5441904] [4.21437]\n",
      "CPU times: user 1.22 s, sys: 102 ms, total: 1.32 s\n",
      "Wall time: 1.22 s\n"
     ]
    }
   ],
   "source": [
    "%%time\n",
    "\n",
    "sess = tf.Session()\n",
    "sess.run(tf.global_variables_initializer())\n",
    "\n",
    "for step in range(100):\n",
    "    _, cost_val = sess.run([train_op, cost], feed_dict={X1:x_data, Y:y_data})\n",
    "    \n",
    "    if step%10==0:\n",
    "        print(step, cost_val, sess.run(W1[0]), sess.run(W1[1]))\n",
    "\n",
    "        \n",
    "pred = sess.run(hypothesis, feed_dict={X1:x_test})\n",
    "pred = pred.reshape(-1,)\n",
    "\n",
    "sess.close()"
   ]
  },
  {
   "cell_type": "code",
   "execution_count": 40,
   "metadata": {},
   "outputs": [],
   "source": [
    "## 행렬 이용 컬럼 2개(input) 536ms\n",
    "## 행렬 사용안함 컬럼 2개(input) : 1m 44s"
   ]
  },
  {
   "cell_type": "code",
   "execution_count": null,
   "metadata": {},
   "outputs": [],
   "source": []
  }
 ],
 "metadata": {
  "kernelspec": {
   "display_name": "Python 3",
   "language": "python",
   "name": "python3"
  },
  "language_info": {
   "codemirror_mode": {
    "name": "ipython",
    "version": 3
   },
   "file_extension": ".py",
   "mimetype": "text/x-python",
   "name": "python",
   "nbconvert_exporter": "python",
   "pygments_lexer": "ipython3",
   "version": "3.7.0"
  }
 },
 "nbformat": 4,
 "nbformat_minor": 2
}
