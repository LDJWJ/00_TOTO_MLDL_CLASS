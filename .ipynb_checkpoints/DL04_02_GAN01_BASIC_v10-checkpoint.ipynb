{
 "cells": [
  {
   "cell_type": "markdown",
   "metadata": {},
   "source": [
    "## GAN(Generative Adversarial Networks)"
   ]
  },
  {
   "cell_type": "markdown",
   "metadata": {},
   "source": [
    "### 딥러닝의 미래로 불리는 GAN은 대립(adversarial)하는 두 신경망을 경쟁시켜가며 결과물을 생성하는 방법이다."
   ]
  },
  {
   "cell_type": "markdown",
   "metadata": {},
   "source": [
    "### 실제이미지를 구분자(Discriminator)에게 이 이미지가 진짜임을 판단하게 하고, 생성자(Generator)를 통해 노이즈로부터 임의의 이미지를 만들고 이것을 다시 같은 구분자를 통해 진짜 이미지인지를 판단하게 한다."
   ]
  },
  {
   "cell_type": "markdown",
   "metadata": {},
   "source": [
    "### 응용 예 <br>\n",
    "\n",
    "(가) 고흐 풍 그림으로 그려주기 <br>\n",
    "(나) 선으로 그려진 만화를 자동으로 채색 <br>\n",
    "(다) 모자이크를 없애주기 <br>\n",
    "(라) GAN 기법을 이용한 자연어 문장 생성"
   ]
  },
  {
   "cell_type": "markdown",
   "metadata": {},
   "source": [
    "### 이번시간의 학습 내용\n",
    "* 손글씨 데이터 셋(MNIST)을 이용하여 손글씨를 무작위로 생성하는 예제 만들기"
   ]
  },
  {
   "cell_type": "code",
   "execution_count": 27,
   "metadata": {},
   "outputs": [
    {
     "name": "stdout",
     "output_type": "stream",
     "text": [
      "tf : 1.5.0, numpy : 2.2.2, matplotlib : 1.18.0\n"
     ]
    }
   ],
   "source": [
    "# https://arxiv.org/abs/1406.2661\n",
    "import tensorflow as tf\n",
    "import matplotlib.pyplot as plt\n",
    "import numpy as np\n",
    "import matplotlib as ml\n",
    "\n",
    "print(\"tf : {}, numpy : {}, matplotlib : {}\".format(tf.__version__, \n",
    "                                                   ml.__version__, np.__version__))"
   ]
  },
  {
   "cell_type": "code",
   "execution_count": 28,
   "metadata": {},
   "outputs": [
    {
     "name": "stdout",
     "output_type": "stream",
     "text": [
      "Extracting ./mnist/data/train-images-idx3-ubyte.gz\n",
      "Extracting ./mnist/data/train-labels-idx1-ubyte.gz\n",
      "Extracting ./mnist/data/t10k-images-idx3-ubyte.gz\n",
      "Extracting ./mnist/data/t10k-labels-idx1-ubyte.gz\n"
     ]
    }
   ],
   "source": [
    "from tensorflow.examples.tutorials.mnist import input_data\n",
    "mnist = input_data.read_data_sets(\"./mnist/data/\", one_hot=True)"
   ]
  },
  {
   "cell_type": "code",
   "execution_count": 39,
   "metadata": {},
   "outputs": [
    {
     "name": "stdout",
     "output_type": "stream",
     "text": [
      "(10000, 784)\n",
      "(10000, 10)\n",
      "(55000, 784)\n",
      "(55000, 10)\n"
     ]
    }
   ],
   "source": [
    "print(mnist.test.images.shape)\n",
    "print(mnist.test.labels.shape)\n",
    "print(mnist.train.images.shape)\n",
    "print(mnist.train.labels.shape)"
   ]
  },
  {
   "cell_type": "code",
   "execution_count": 57,
   "metadata": {},
   "outputs": [
    {
     "name": "stdout",
     "output_type": "stream",
     "text": [
      "<class 'numpy.ndarray'>\n"
     ]
    }
   ],
   "source": [
    "print(type(mnist.train.images) )"
   ]
  },
  {
   "cell_type": "code",
   "execution_count": 40,
   "metadata": {},
   "outputs": [
    {
     "name": "stdout",
     "output_type": "stream",
     "text": [
      "[[0. 0. 0. 0. 0. 0. 0. 1. 0. 0.]\n",
      " [0. 0. 0. 1. 0. 0. 0. 0. 0. 0.]\n",
      " [0. 0. 0. 0. 1. 0. 0. 0. 0. 0.]\n",
      " [0. 0. 0. 0. 0. 0. 1. 0. 0. 0.]\n",
      " [0. 1. 0. 0. 0. 0. 0. 0. 0. 0.]\n",
      " [0. 0. 0. 0. 0. 0. 0. 0. 1. 0.]\n",
      " [0. 1. 0. 0. 0. 0. 0. 0. 0. 0.]\n",
      " [1. 0. 0. 0. 0. 0. 0. 0. 0. 0.]\n",
      " [0. 0. 0. 0. 0. 0. 0. 0. 0. 1.]\n",
      " [0. 0. 0. 0. 0. 0. 0. 0. 1. 0.]]\n"
     ]
    }
   ],
   "source": [
    "print(mnist.train.labels[0:10])"
   ]
  },
  {
   "cell_type": "markdown",
   "metadata": {},
   "source": [
    "### 01. 기본 옵션 설정"
   ]
  },
  {
   "cell_type": "code",
   "execution_count": 42,
   "metadata": {},
   "outputs": [],
   "source": [
    "total_epoch = 100   # epoch 수 설정\n",
    "batch_size = 100    # 배치 사이즈\n",
    "learning_rate = 0.0002  # 학습률\n",
    "\n",
    "# 신경망 레이어 구성 옵션\n",
    "n_hidden = 256          # 은닉층 노드\n",
    "n_input = 28 * 28       # 입력 \n",
    "n_noise = 128           # 생성기의 입력값으로 사용할 노이즈의 크기"
   ]
  },
  {
   "cell_type": "markdown",
   "metadata": {},
   "source": [
    "### 02. 신경망 모델 구성\n",
    " * 노이즈를 이용하여 데이터 생성\n",
    " * 비지도학습이므로 Y가 없음"
   ]
  },
  {
   "cell_type": "code",
   "execution_count": 43,
   "metadata": {},
   "outputs": [],
   "source": [
    "# GAN 도 Unsupervised 학습이므로 Autoencoder 처럼 Y 를 사용하지 않습니다.\n",
    "X = tf.placeholder(tf.float32, [None, n_input])\n",
    "\n",
    "# 노이즈 Z를 입력값으로 사용합니다.\n",
    "Z = tf.placeholder(tf.float32, [None, n_noise])"
   ]
  },
  {
   "cell_type": "markdown",
   "metadata": {},
   "source": [
    "### 생성자 신경망, 판별자 신경망 변수 선언"
   ]
  },
  {
   "cell_type": "code",
   "execution_count": 44,
   "metadata": {},
   "outputs": [],
   "source": [
    "# 생성자 신경망에 사용하는 변수(Weight, bias)\n",
    "G_W1 = tf.Variable(tf.random_normal([n_noise, n_hidden], stddev=0.01))\n",
    "G_b1 = tf.Variable(tf.zeros([n_hidden]))\n",
    "G_W2 = tf.Variable(tf.random_normal([n_hidden, n_input], stddev=0.01))\n",
    "G_b2 = tf.Variable(tf.zeros([n_input]))"
   ]
  },
  {
   "cell_type": "code",
   "execution_count": 45,
   "metadata": {},
   "outputs": [],
   "source": [
    "# 판별기 신경망에 사용하는 변수들입니다.\n",
    "D_W1 = tf.Variable(tf.random_normal([n_input, n_hidden], stddev=0.01))\n",
    "D_b1 = tf.Variable(tf.zeros([n_hidden]))\n",
    "\n",
    "# 판별기의 최종 결과값은 얼마나 진짜와 가깝냐를 판단하는 한 개의 스칼라값입니다.\n",
    "D_W2 = tf.Variable(tf.random_normal([n_hidden, 1], stddev=0.01))\n",
    "D_b2 = tf.Variable(tf.zeros([1]))"
   ]
  },
  {
   "cell_type": "markdown",
   "metadata": {},
   "source": [
    "### 2-1 생성자(G) 신경망 구성\n",
    " * 무작위 생성한 노이즈를 받아, 가중치와 편향을 반영하여 은닉층 구성.\n",
    " * sigmoid 함수를 이용하여 최종 결과값 0~1 사이의 값 반환"
   ]
  },
  {
   "cell_type": "code",
   "execution_count": 46,
   "metadata": {},
   "outputs": [],
   "source": [
    "def generator(noise_z):\n",
    "    hidden = tf.nn.relu(\n",
    "                    tf.matmul(noise_z, G_W1) + G_b1)\n",
    "    output = tf.nn.sigmoid(\n",
    "                    tf.matmul(hidden, G_W2) + G_b2)\n",
    "\n",
    "    return output"
   ]
  },
  {
   "cell_type": "markdown",
   "metadata": {},
   "source": [
    "### 2-2 구분자(D) 신경망 구성\n",
    " * 구분자 신경망 구성, 가중치와 편향을 반영한 데이터 출력\n",
    " * sigmoid 함수를 이용하여 최종 결과값 0~1 사이의 값 반환"
   ]
  },
  {
   "cell_type": "code",
   "execution_count": 47,
   "metadata": {},
   "outputs": [],
   "source": [
    "def discriminator(inputs):\n",
    "    hidden = tf.nn.relu(\n",
    "                    tf.matmul(inputs, D_W1) + D_b1)\n",
    "    output = tf.nn.sigmoid(\n",
    "                    tf.matmul(hidden, D_W2) + D_b2)\n",
    "\n",
    "    return output"
   ]
  },
  {
   "cell_type": "markdown",
   "metadata": {},
   "source": [
    "### 2-3 생성자 신경망의 노이즈 발생을 위한 노이즈 생성 함수"
   ]
  },
  {
   "cell_type": "code",
   "execution_count": 49,
   "metadata": {},
   "outputs": [],
   "source": [
    "# 랜덤한 노이즈(Z)를 만듭니다.\n",
    "def get_noise(batch_size, n_noise):\n",
    "    return np.random.normal(size=(batch_size, n_noise))"
   ]
  },
  {
   "cell_type": "markdown",
   "metadata": {},
   "source": [
    "### 2-4 신경망 구성"
   ]
  },
  {
   "cell_type": "code",
   "execution_count": 50,
   "metadata": {},
   "outputs": [],
   "source": [
    "# 노이즈를 이용해 랜덤한 이미지를 생성합니다.\n",
    "# Z에는 실행 시, noise가 입력됨.\n",
    "G = generator(Z)\n",
    "# 노이즈를 이용해 생성한 이미지가 진짜 이미지인지 판별한 값을 구합니다.\n",
    "D_fake = discriminator(G)\n",
    "# 진짜 이미지를 이용해 판별한 값을 구합니다.\n",
    "D_real = discriminator(X)"
   ]
  },
  {
   "cell_type": "markdown",
   "metadata": {},
   "source": [
    " * GAN은 생성자(Generator) : 구분자가 1로 예측하도록 하는 것을 목표로 학습시킴. \n",
    " * GAN은 구분자(Discriminator) : 진짜 데이터를 받으면 1로 가짜 데이터를 받으면 0으로 예측하도록 학습시킴."
   ]
  },
  {
   "cell_type": "markdown",
   "metadata": {},
   "source": [
    "### GAN의 모델의 최적화\n",
    "* 각각의 신경망의 loss_G와 loss_D를 최대화 하는 것. \n",
    "   * 단, 서로의 손실이 연관되어 있어, 두 손실값이 같이 증가가 어려움.\n",
    "* loss_D를 최대화하기 위해서는 D_gene값을 최소화시킴.\n",
    "* 판별기에 진짜 이미지를 넣었을 때에도 최대값을 : tf.log(D_real)\n",
    "* 가짜 이미지를 넣었을 때에도 최대값을 : tf.log(1 - D_gene)"
   ]
  },
  {
   "cell_type": "code",
   "execution_count": 51,
   "metadata": {},
   "outputs": [],
   "source": [
    "loss_D = tf.reduce_mean(tf.log(D_real) + tf.log(1 - D_fake))"
   ]
  },
  {
   "cell_type": "markdown",
   "metadata": {},
   "source": [
    "* loss_G(생성자 손실)를 최대화하기 위해서는 D_gene값을 최대화 한다.\n",
    "* 가짜 이미지를 넣었을 때, 판별기가 최대한 실제 이미지라고 판단하도록 생성기 신경망을 학습"
   ]
  },
  {
   "cell_type": "code",
   "execution_count": 52,
   "metadata": {},
   "outputs": [],
   "source": [
    "# 결국 D_gene 값을 최대화하는 것이므로 다음과 같이 사용할 수 있습니다.\n",
    "loss_G = tf.reduce_mean(tf.log(D_fake))"
   ]
  },
  {
   "cell_type": "code",
   "execution_count": 53,
   "metadata": {},
   "outputs": [],
   "source": [
    "# loss_D 를 구할 때는 판별기 신경망에 사용되는 변수만 사용하고,\n",
    "# loss_G 를 구할 때는 생성기 신경망에 사용되는 변수만 사용하여 최적화를 합니다.\n",
    "D_var_list = [D_W1, D_b1, D_W2, D_b2]\n",
    "G_var_list = [G_W1, G_b1, G_W2, G_b2]"
   ]
  },
  {
   "cell_type": "code",
   "execution_count": 54,
   "metadata": {},
   "outputs": [],
   "source": [
    "# GAN 논문의 수식에 따르면 loss 를 극대화 해야하지만, minimize 하는 최적화 함수를 사용하기 때문에\n",
    "# 최적화 하려는 loss_D 와 loss_G 에 음수 부호를 붙여줍니다.\n",
    "train_D = tf.train.AdamOptimizer(learning_rate).minimize(-loss_D,\n",
    "                                                         var_list=D_var_list)\n",
    "train_G = tf.train.AdamOptimizer(learning_rate).minimize(-loss_G,\n",
    "                                                         var_list=G_var_list)"
   ]
  },
  {
   "cell_type": "markdown",
   "metadata": {},
   "source": [
    "### 03. 모델 학습"
   ]
  },
  {
   "cell_type": "code",
   "execution_count": 23,
   "metadata": {},
   "outputs": [],
   "source": [
    "sess = tf.Session()\n",
    "sess.run(tf.global_variables_initializer())\n",
    "\n",
    "total_batch = int(mnist.train.num_examples/batch_size)\n",
    "loss_val_D, loss_val_G = 0, 0"
   ]
  },
  {
   "cell_type": "markdown",
   "metadata": {},
   "source": [
    "* 학습 후, 학습되는 이미지 저장을 위해 '/samples'라는 폴더 생성이 필요함."
   ]
  },
  {
   "cell_type": "code",
   "execution_count": 26,
   "metadata": {
    "scrolled": true
   },
   "outputs": [
    {
     "name": "stdout",
     "output_type": "stream",
     "text": [
      "Epoch: 0000 D loss: -0.1653 G loss: -3.034\n",
      "Epoch: 0001 D loss: -0.7106 G loss: -1.495\n",
      "Epoch: 0002 D loss: -0.4771 G loss: -1.648\n",
      "Epoch: 0003 D loss: -0.2223 G loss: -2.398\n",
      "Epoch: 0004 D loss: -0.2874 G loss: -2.259\n",
      "Epoch: 0005 D loss: -0.271 G loss: -2.542\n",
      "Epoch: 0006 D loss: -0.1812 G loss: -2.933\n",
      "Epoch: 0007 D loss: -0.2818 G loss: -2.744\n",
      "Epoch: 0008 D loss: -0.3315 G loss: -2.738\n",
      "Epoch: 0009 D loss: -0.4415 G loss: -2.354\n",
      "Epoch: 0010 D loss: -0.4249 G loss: -2.392\n",
      "Epoch: 0011 D loss: -0.5036 G loss: -2.21\n",
      "Epoch: 0012 D loss: -0.3318 G loss: -2.419\n",
      "Epoch: 0013 D loss: -0.3752 G loss: -2.35\n",
      "Epoch: 0014 D loss: -0.3868 G loss: -2.449\n",
      "Epoch: 0015 D loss: -0.2984 G loss: -2.649\n",
      "Epoch: 0016 D loss: -0.3528 G loss: -2.587\n",
      "Epoch: 0017 D loss: -0.4715 G loss: -2.755\n",
      "Epoch: 0018 D loss: -0.4173 G loss: -2.33\n",
      "Epoch: 0019 D loss: -0.4514 G loss: -2.615\n",
      "Epoch: 0020 D loss: -0.3663 G loss: -2.427\n",
      "Epoch: 0021 D loss: -0.4703 G loss: -2.258\n",
      "Epoch: 0022 D loss: -0.5093 G loss: -2.449\n",
      "Epoch: 0023 D loss: -0.54 G loss: -2.522\n",
      "Epoch: 0024 D loss: -0.5035 G loss: -2.468\n",
      "Epoch: 0025 D loss: -0.4226 G loss: -2.7\n",
      "Epoch: 0026 D loss: -0.5122 G loss: -2.141\n",
      "Epoch: 0027 D loss: -0.4628 G loss: -2.358\n",
      "Epoch: 0028 D loss: -0.5829 G loss: -2.317\n",
      "Epoch: 0029 D loss: -0.4424 G loss: -2.634\n",
      "Epoch: 0030 D loss: -0.5554 G loss: -2.476\n",
      "Epoch: 0031 D loss: -0.4831 G loss: -2.586\n",
      "Epoch: 0032 D loss: -0.4897 G loss: -2.43\n",
      "Epoch: 0033 D loss: -0.7101 G loss: -2.316\n",
      "Epoch: 0034 D loss: -0.6222 G loss: -2.234\n",
      "Epoch: 0035 D loss: -0.5206 G loss: -2.199\n",
      "Epoch: 0036 D loss: -0.6454 G loss: -2.153\n",
      "Epoch: 0037 D loss: -0.5277 G loss: -2.544\n",
      "Epoch: 0038 D loss: -0.5882 G loss: -2.317\n",
      "Epoch: 0039 D loss: -0.5744 G loss: -2.259\n",
      "Epoch: 0040 D loss: -0.7222 G loss: -2.3\n",
      "Epoch: 0041 D loss: -0.4444 G loss: -2.529\n",
      "Epoch: 0042 D loss: -0.5746 G loss: -2.274\n",
      "Epoch: 0043 D loss: -0.6268 G loss: -2.356\n",
      "Epoch: 0044 D loss: -0.6043 G loss: -2.276\n",
      "Epoch: 0045 D loss: -0.7669 G loss: -2.018\n",
      "Epoch: 0046 D loss: -0.5306 G loss: -2.299\n",
      "Epoch: 0047 D loss: -0.6034 G loss: -2.366\n",
      "Epoch: 0048 D loss: -0.5422 G loss: -2.175\n",
      "Epoch: 0049 D loss: -0.6538 G loss: -2.06\n",
      "Epoch: 0050 D loss: -0.509 G loss: -2.477\n",
      "Epoch: 0051 D loss: -0.8588 G loss: -1.974\n",
      "Epoch: 0052 D loss: -0.671 G loss: -2.126\n",
      "Epoch: 0053 D loss: -0.7524 G loss: -2.179\n",
      "Epoch: 0054 D loss: -0.5921 G loss: -2.128\n",
      "Epoch: 0055 D loss: -0.6807 G loss: -2.098\n",
      "Epoch: 0056 D loss: -0.7262 G loss: -1.974\n",
      "Epoch: 0057 D loss: -0.7936 G loss: -1.796\n",
      "Epoch: 0058 D loss: -0.6704 G loss: -2.064\n",
      "Epoch: 0059 D loss: -0.6947 G loss: -2.071\n",
      "Epoch: 0060 D loss: -0.662 G loss: -2.127\n",
      "Epoch: 0061 D loss: -0.6119 G loss: -1.961\n",
      "Epoch: 0062 D loss: -0.7331 G loss: -2.013\n",
      "Epoch: 0063 D loss: -0.7778 G loss: -2.034\n",
      "Epoch: 0064 D loss: -0.7213 G loss: -1.897\n",
      "Epoch: 0065 D loss: -0.7697 G loss: -1.937\n",
      "Epoch: 0066 D loss: -0.7668 G loss: -1.774\n",
      "Epoch: 0067 D loss: -0.6475 G loss: -2.209\n",
      "Epoch: 0068 D loss: -0.7239 G loss: -1.941\n",
      "Epoch: 0069 D loss: -0.9045 G loss: -1.56\n",
      "Epoch: 0070 D loss: -0.721 G loss: -2.04\n",
      "Epoch: 0071 D loss: -0.6217 G loss: -1.981\n",
      "Epoch: 0072 D loss: -0.6882 G loss: -2.017\n",
      "Epoch: 0073 D loss: -0.6594 G loss: -2.15\n",
      "Epoch: 0074 D loss: -0.689 G loss: -2.034\n",
      "Epoch: 0075 D loss: -0.7551 G loss: -1.951\n",
      "Epoch: 0076 D loss: -0.7031 G loss: -2.014\n",
      "Epoch: 0077 D loss: -0.7405 G loss: -2.105\n",
      "Epoch: 0078 D loss: -0.6395 G loss: -1.954\n",
      "Epoch: 0079 D loss: -0.6274 G loss: -2.022\n",
      "Epoch: 0080 D loss: -0.7201 G loss: -1.867\n",
      "Epoch: 0081 D loss: -0.6825 G loss: -2.177\n",
      "Epoch: 0082 D loss: -0.802 G loss: -2.137\n",
      "Epoch: 0083 D loss: -0.6555 G loss: -2.08\n",
      "Epoch: 0084 D loss: -0.6004 G loss: -2.139\n",
      "Epoch: 0085 D loss: -0.8551 G loss: -1.839\n",
      "Epoch: 0086 D loss: -0.6607 G loss: -1.902\n",
      "Epoch: 0087 D loss: -0.7206 G loss: -1.956\n",
      "Epoch: 0088 D loss: -0.6546 G loss: -2.159\n",
      "Epoch: 0089 D loss: -0.7315 G loss: -2.027\n",
      "Epoch: 0090 D loss: -0.7173 G loss: -2.102\n",
      "Epoch: 0091 D loss: -0.6922 G loss: -1.99\n",
      "Epoch: 0092 D loss: -0.7698 G loss: -1.943\n",
      "Epoch: 0093 D loss: -0.7635 G loss: -1.904\n",
      "Epoch: 0094 D loss: -0.7489 G loss: -2.049\n",
      "Epoch: 0095 D loss: -0.6125 G loss: -2.077\n",
      "Epoch: 0096 D loss: -0.6615 G loss: -2.018\n",
      "Epoch: 0097 D loss: -0.6525 G loss: -2.168\n",
      "Epoch: 0098 D loss: -0.6061 G loss: -2.183\n",
      "Epoch: 0099 D loss: -0.6364 G loss: -2.191\n",
      "최적화 완료!\n",
      "Wall time: 17min 38s\n"
     ]
    }
   ],
   "source": [
    "%%time\n",
    "\n",
    "for epoch in range(total_epoch):\n",
    "    for i in range(total_batch):\n",
    "        batch_xs, batch_ys = mnist.train.next_batch(batch_size)\n",
    "        noise = get_noise(batch_size, n_noise)\n",
    "\n",
    "        # 판별기와 생성기 신경망을 각각 학습시킵니다.\n",
    "        _, loss_val_D = sess.run([train_D, loss_D],\n",
    "                                 feed_dict={X: batch_xs, Z: noise})\n",
    "        _, loss_val_G = sess.run([train_G, loss_G],\n",
    "                                 feed_dict={Z: noise})\n",
    "\n",
    "    print('Epoch:', '%04d' % epoch,\n",
    "          'D loss: {:.4}'.format(loss_val_D),\n",
    "          'G loss: {:.4}'.format(loss_val_G))\n",
    "                                 \n",
    "    #########\n",
    "    # 학습이 되어가는 모습을 보기 위해 주기적으로 이미지를 생성하여 저장\n",
    "    ######\n",
    "    if epoch == 0 or (epoch + 1) % 10 == 0:\n",
    "        sample_size = 10\n",
    "        noise = get_noise(sample_size, n_noise)\n",
    "        samples = sess.run(G, feed_dict={Z: noise})\n",
    "\n",
    "        fig, ax = plt.subplots(1, sample_size, figsize=(sample_size, 1))\n",
    "\n",
    "        for i in range(sample_size):\n",
    "            ax[i].set_axis_off()\n",
    "            ax[i].imshow(np.reshape(samples[i], (28, 28)))\n",
    "\n",
    "        plt.savefig('samples/{}.png'.format(str(epoch).zfill(3)), bbox_inches='tight')\n",
    "        plt.close(fig)\n",
    "\n",
    "print('최적화 완료!')"
   ]
  },
  {
   "cell_type": "markdown",
   "metadata": {},
   "source": [
    "### REF \n",
    "* GAN에 대한 논문 : https://arxiv.org/abs/1406.2661"
   ]
  },
  {
   "cell_type": "markdown",
   "metadata": {},
   "source": [
    "Copyright 2020 LIM Co.(예영Edu Co.) all rights reserved. <br>\n",
    "교육용으로 작성된 것으로 배포 및 복제시에 사전 허가가 필요합니다. <br>"
   ]
  },
  {
   "cell_type": "code",
   "execution_count": null,
   "metadata": {},
   "outputs": [],
   "source": []
  }
 ],
 "metadata": {
  "kernelspec": {
   "display_name": "Python 3",
   "language": "python",
   "name": "python3"
  },
  "language_info": {
   "codemirror_mode": {
    "name": "ipython",
    "version": 3
   },
   "file_extension": ".py",
   "mimetype": "text/x-python",
   "name": "python",
   "nbconvert_exporter": "python",
   "pygments_lexer": "ipython3",
   "version": "3.6.5"
  }
 },
 "nbformat": 4,
 "nbformat_minor": 2
}
