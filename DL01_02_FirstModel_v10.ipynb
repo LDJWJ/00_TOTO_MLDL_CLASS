{
 "cells": [
  {
   "cell_type": "markdown",
   "metadata": {
    "collapsed": true
   },
   "source": [
    "### 기본 라이브러리를 활용한 캐글 대회 참석(나의 첫 모델 만들기)\n",
    "* 데이터 불러오기\n",
    "* 데이터 탐색\n",
    "* 데이터 모델 만들기"
   ]
  },
  {
   "cell_type": "markdown",
   "metadata": {},
   "source": [
    "### 준비"
   ]
  },
  {
   "cell_type": "markdown",
   "metadata": {},
   "source": [
    "* 캐글 데이터 셋을 다운로드 받는다.\n",
    "* site : https://www.kaggle.com/c/titanic/data\n",
    "* 데이터 올리기\n"
   ]
  },
  {
   "cell_type": "markdown",
   "metadata": {},
   "source": [
    "### 데이터 설명"
   ]
  },
  {
   "cell_type": "markdown",
   "metadata": {},
   "source": [
    "* Survival 생존 여부 Survival. 0 = No, 1 = Yes \n",
    "* Pclass 티켓의 클래스 Ticket class. 1 = 1st, 2 = 2nd, 3 = 3rd \n",
    "* Sex 성별(Sex) 남(male)/여(female) \n",
    "* Age 나이(Age in years.) \n",
    "* SibSp 함께 탑승한 형제와 배우자의 수 /siblings, spouses aboard the Titanic. \n",
    "* Parch 함께 탑승한 부모, 아이의 수 # of parents / children aboard the Titanic. \n",
    "* Ticket 티켓 번호(Ticket number) (ex) CA 31352, A/5. 2151 \n",
    "* Fare 탑승료(Passenger fare) \n",
    "* Cabin 객실 번호(Cabin number) \n",
    "* Embarked 탑승 항구(Port of Embarkation) C = Cherbourg, Q = Queenstown, S = Southampton "
   ]
  },
  {
   "cell_type": "code",
   "execution_count": 1,
   "metadata": {},
   "outputs": [],
   "source": [
    "import pandas as pd"
   ]
  },
  {
   "cell_type": "code",
   "execution_count": 2,
   "metadata": {},
   "outputs": [],
   "source": [
    "train = pd.read_csv(\"train.csv\")\n",
    "test = pd.read_csv(\"test.csv\")"
   ]
  },
  {
   "cell_type": "code",
   "execution_count": 6,
   "metadata": {},
   "outputs": [
    {
     "name": "stdout",
     "output_type": "stream",
     "text": [
      " C 드라이브의 볼륨에는 이름이 없습니다.\n",
      " 볼륨 일련 번호: 6CB1-CD77\n",
      "\n",
      " C:\\Users\\front\\Documents\\00_TOTO_MLDL_CLASS 디렉터리\n",
      "\n",
      "2020-02-17  오후 03:39    <DIR>          .\n",
      "2020-02-17  오후 03:39    <DIR>          ..\n",
      "2020-02-17  오후 01:57    <DIR>          .ipynb_checkpoints\n",
      "2020-02-17  오후 03:39           583,706 DL01_01_Python_Library_v10.ipynb\n",
      "2020-02-17  오후 01:57            11,255 DL01_02_FirstModel_v10.ipynb\n",
      "2020-02-17  오후 01:57            11,244 DL01_03_DL_Model_v10.ipynb\n",
      "2020-02-17  오후 01:57            11,295 DL02_01_FirstModel_v10.ipynb\n",
      "2020-02-17  오후 01:57            51,924 DL02_02_Keras_MNIST.ipynb\n",
      "2020-02-01  오후 05:24             9,045 DL02_03_TF_Basic.ipynb\n",
      "2020-02-01  오후 05:24            13,669 DL02_04_TF_Bike.ipynb\n",
      "2020-02-01  오후 05:24            12,240 DL02_04_TF_MNIST.ipynb\n",
      "2020-02-01  오후 05:24         1,547,925 DL03_01_BasicKnoledge.ipynb\n",
      "2020-02-01  오후 05:24           171,628 DL03_02_DROPOUT.ipynb\n",
      "2020-02-01  오후 05:24           763,648 DL03_03_CNN_20200122.ipynb\n",
      "2020-02-01  오후 05:24             6,660 DL03_04_tf20_start.ipynb\n",
      "2020-02-01  오후 05:24           167,445 DL03_05_tf20_cifar10.ipynb\n",
      "2020-02-01  오후 05:24            10,268 DL03_06_CNN_Start.ipynb\n",
      "2020-02-01  오후 05:24           756,700 DL03_07_CNN02.ipynb\n",
      "2020-02-01  오후 05:24            63,648 DL03_08_CNN03.ipynb\n",
      "2020-02-01  오후 05:24            35,862 DL04_01_AutoEncoder_Basic.ipynb\n",
      "2020-02-01  오후 05:27            20,287 DL04_02_GAN01_BASIC_v10.ipynb\n",
      "2020-02-17  오후 03:10         6,847,926 dog.jpg\n",
      "2020-02-01  오후 05:24             3,258 gender_submission.csv\n",
      "2020-02-17  오후 03:35             4,009 iris.csv\n",
      "2020-02-17  오후 03:35             8,728 iris.xlsx\n",
      "2020-02-17  오후 03:34           133,049 Plot_without_axes.png\n",
      "2020-02-01  오후 05:24                42 README.md\n",
      "2020-02-01  오후 05:24           149,355 sampleSubmission_bike.csv\n",
      "2020-02-01  오후 05:24            28,629 test.csv\n",
      "2020-02-01  오후 05:24           330,350 test_bike.csv\n",
      "2020-02-01  오후 05:24            61,194 train.csv\n",
      "2020-02-01  오후 05:24           659,240 train_bike.csv\n",
      "2020-02-01  오후 05:24            63,604 train_modified.csv\n",
      "              30개 파일          12,537,833 바이트\n",
      "               3개 디렉터리  100,378,677,248 바이트 남음\n"
     ]
    }
   ],
   "source": [
    "# 리눅스 환경이라면(구글 콜랩) !ls 가능.\n",
    "!dir"
   ]
  },
  {
   "cell_type": "code",
   "execution_count": 7,
   "metadata": {},
   "outputs": [
    {
     "name": "stdout",
     "output_type": "stream",
     "text": [
      "(891, 12)\n",
      "(418, 11)\n"
     ]
    }
   ],
   "source": [
    "print(train.shape) \n",
    "print(test.shape) "
   ]
  },
  {
   "cell_type": "code",
   "execution_count": 8,
   "metadata": {},
   "outputs": [
    {
     "name": "stdout",
     "output_type": "stream",
     "text": [
      "Index(['PassengerId', 'Survived', 'Pclass', 'Name', 'Sex', 'Age', 'SibSp',\n",
      "       'Parch', 'Ticket', 'Fare', 'Cabin', 'Embarked'],\n",
      "      dtype='object')\n",
      "Index(['PassengerId', 'Pclass', 'Name', 'Sex', 'Age', 'SibSp', 'Parch',\n",
      "       'Ticket', 'Fare', 'Cabin', 'Embarked'],\n",
      "      dtype='object')\n"
     ]
    }
   ],
   "source": [
    "print(train.columns) \n",
    "print(test.columns) "
   ]
  },
  {
   "cell_type": "code",
   "execution_count": 9,
   "metadata": {},
   "outputs": [
    {
     "data": {
      "text/plain": [
       "PassengerId      0\n",
       "Survived         0\n",
       "Pclass           0\n",
       "Name             0\n",
       "Sex              0\n",
       "Age            177\n",
       "SibSp            0\n",
       "Parch            0\n",
       "Ticket           0\n",
       "Fare             0\n",
       "Cabin          687\n",
       "Embarked         2\n",
       "dtype: int64"
      ]
     },
     "execution_count": 9,
     "metadata": {},
     "output_type": "execute_result"
    }
   ],
   "source": [
    "train.isnull().sum() "
   ]
  },
  {
   "cell_type": "code",
   "execution_count": 10,
   "metadata": {},
   "outputs": [
    {
     "data": {
      "text/plain": [
       "PassengerId      0\n",
       "Pclass           0\n",
       "Name             0\n",
       "Sex              0\n",
       "Age             86\n",
       "SibSp            0\n",
       "Parch            0\n",
       "Ticket           0\n",
       "Fare             1\n",
       "Cabin          327\n",
       "Embarked         0\n",
       "dtype: int64"
      ]
     },
     "execution_count": 10,
     "metadata": {},
     "output_type": "execute_result"
    }
   ],
   "source": [
    "test.isnull().sum() "
   ]
  },
  {
   "cell_type": "markdown",
   "metadata": {},
   "source": [
    "### 모델 생성 후, 제출"
   ]
  },
  {
   "cell_type": "code",
   "execution_count": 11,
   "metadata": {},
   "outputs": [],
   "source": [
    "from sklearn.neighbors import KNeighborsClassifier "
   ]
  },
  {
   "cell_type": "code",
   "execution_count": 12,
   "metadata": {},
   "outputs": [],
   "source": [
    "sel = ['Pclass', 'SibSp', 'Parch' ] \n",
    "# 학습에 사용될 데이터 준비 X_train, y_train \n",
    "X_train = train[sel] \n",
    "y_train = train['Survived'] \n",
    "X_test = test[sel] "
   ]
  },
  {
   "cell_type": "code",
   "execution_count": 13,
   "metadata": {},
   "outputs": [
    {
     "data": {
      "text/plain": [
       "array([0, 0, 0, 0, 1, 0, 0, 1, 0, 0, 0, 1, 1, 0, 1], dtype=int64)"
      ]
     },
     "execution_count": 13,
     "metadata": {},
     "output_type": "execute_result"
    }
   ],
   "source": [
    "model = KNeighborsClassifier() \n",
    "model.fit(X_train, y_train) \n",
    "predictions = model.predict(X_test) \n",
    "predictions[:15] "
   ]
  },
  {
   "cell_type": "code",
   "execution_count": 14,
   "metadata": {},
   "outputs": [
    {
     "name": "stdout",
     "output_type": "stream",
     "text": [
      "Index(['PassengerId', 'Survived'], dtype='object')\n"
     ]
    },
    {
     "data": {
      "text/html": [
       "<div>\n",
       "<style scoped>\n",
       "    .dataframe tbody tr th:only-of-type {\n",
       "        vertical-align: middle;\n",
       "    }\n",
       "\n",
       "    .dataframe tbody tr th {\n",
       "        vertical-align: top;\n",
       "    }\n",
       "\n",
       "    .dataframe thead th {\n",
       "        text-align: right;\n",
       "    }\n",
       "</style>\n",
       "<table border=\"1\" class=\"dataframe\">\n",
       "  <thead>\n",
       "    <tr style=\"text-align: right;\">\n",
       "      <th></th>\n",
       "      <th>PassengerId</th>\n",
       "      <th>Survived</th>\n",
       "    </tr>\n",
       "  </thead>\n",
       "  <tbody>\n",
       "  </tbody>\n",
       "</table>\n",
       "</div>"
      ],
      "text/plain": [
       "Empty DataFrame\n",
       "Columns: [PassengerId, Survived]\n",
       "Index: []"
      ]
     },
     "execution_count": 14,
     "metadata": {},
     "output_type": "execute_result"
    }
   ],
   "source": [
    "sub = pd.read_csv(\"gender_submission.csv\") \n",
    "print(sub.columns)\n",
    "sub[sub.Survived < 0 ]"
   ]
  },
  {
   "cell_type": "code",
   "execution_count": 15,
   "metadata": {},
   "outputs": [
    {
     "data": {
      "text/html": [
       "<div>\n",
       "<style scoped>\n",
       "    .dataframe tbody tr th:only-of-type {\n",
       "        vertical-align: middle;\n",
       "    }\n",
       "\n",
       "    .dataframe tbody tr th {\n",
       "        vertical-align: top;\n",
       "    }\n",
       "\n",
       "    .dataframe thead th {\n",
       "        text-align: right;\n",
       "    }\n",
       "</style>\n",
       "<table border=\"1\" class=\"dataframe\">\n",
       "  <thead>\n",
       "    <tr style=\"text-align: right;\">\n",
       "      <th></th>\n",
       "      <th>PassengerId</th>\n",
       "      <th>Survived</th>\n",
       "    </tr>\n",
       "  </thead>\n",
       "  <tbody>\n",
       "    <tr>\n",
       "      <th>0</th>\n",
       "      <td>892</td>\n",
       "      <td>0</td>\n",
       "    </tr>\n",
       "    <tr>\n",
       "      <th>1</th>\n",
       "      <td>893</td>\n",
       "      <td>0</td>\n",
       "    </tr>\n",
       "    <tr>\n",
       "      <th>2</th>\n",
       "      <td>894</td>\n",
       "      <td>0</td>\n",
       "    </tr>\n",
       "    <tr>\n",
       "      <th>3</th>\n",
       "      <td>895</td>\n",
       "      <td>0</td>\n",
       "    </tr>\n",
       "    <tr>\n",
       "      <th>4</th>\n",
       "      <td>896</td>\n",
       "      <td>1</td>\n",
       "    </tr>\n",
       "    <tr>\n",
       "      <th>5</th>\n",
       "      <td>897</td>\n",
       "      <td>0</td>\n",
       "    </tr>\n",
       "    <tr>\n",
       "      <th>6</th>\n",
       "      <td>898</td>\n",
       "      <td>0</td>\n",
       "    </tr>\n",
       "    <tr>\n",
       "      <th>7</th>\n",
       "      <td>899</td>\n",
       "      <td>1</td>\n",
       "    </tr>\n",
       "    <tr>\n",
       "      <th>8</th>\n",
       "      <td>900</td>\n",
       "      <td>0</td>\n",
       "    </tr>\n",
       "    <tr>\n",
       "      <th>9</th>\n",
       "      <td>901</td>\n",
       "      <td>0</td>\n",
       "    </tr>\n",
       "  </tbody>\n",
       "</table>\n",
       "</div>"
      ],
      "text/plain": [
       "   PassengerId  Survived\n",
       "0          892         0\n",
       "1          893         0\n",
       "2          894         0\n",
       "3          895         0\n",
       "4          896         1\n",
       "5          897         0\n",
       "6          898         0\n",
       "7          899         1\n",
       "8          900         0\n",
       "9          901         0"
      ]
     },
     "execution_count": 15,
     "metadata": {},
     "output_type": "execute_result"
    }
   ],
   "source": [
    "sub['Survived'] = predictions \n",
    "sub.head(10) "
   ]
  },
  {
   "cell_type": "code",
   "execution_count": 16,
   "metadata": {},
   "outputs": [],
   "source": [
    "sub.to_csv(\"knn_first_model.csv\", index=False) "
   ]
  },
  {
   "cell_type": "markdown",
   "metadata": {},
   "source": [
    "### 제출\n",
    "* 만들어진 knn_first_model.csv 파일을 다운로드 후, \n",
    "* kaggle 사이트 접속 후, (https://www.kaggle.com/c/titanic)\n",
    "* Submit Predictions 버튼을 선택 후, csv파일 제출\n",
    "* 결과 확인"
   ]
  },
  {
   "cell_type": "markdown",
   "metadata": {},
   "source": [
    "### REF\n",
    "* scikit-learn 사이트 : https://scikit-learn.org/stable/index.html\n",
    "* 판다스 10분(데잇걸즈) : https://dataitgirls2.github.io/10minutes2pandas/"
   ]
  }
 ],
 "metadata": {
  "kernelspec": {
   "display_name": "Python 3",
   "language": "python",
   "name": "python3"
  },
  "language_info": {
   "codemirror_mode": {
    "name": "ipython",
    "version": 3
   },
   "file_extension": ".py",
   "mimetype": "text/x-python",
   "name": "python",
   "nbconvert_exporter": "python",
   "pygments_lexer": "ipython3",
   "version": "3.7.0"
  }
 },
 "nbformat": 4,
 "nbformat_minor": 2
}
