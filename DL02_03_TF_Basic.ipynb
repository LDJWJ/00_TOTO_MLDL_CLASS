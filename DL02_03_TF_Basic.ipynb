{
  "cells": [
    {
      "metadata": {
        "collapsed": true
      },
      "cell_type": "markdown",
      "source": "### Tensorflow 시작하기\n* 자료형 선언\n* 텐서플로워 연산\n* 텐서플로워 그래프 생성 및 실행"
    },
    {
      "metadata": {},
      "cell_type": "markdown",
      "source": "* 텐서란? 수학적인 개념이며, 기본적인 데이터의 배열로 볼 수 있음."
    },
    {
      "metadata": {},
      "cell_type": "markdown",
      "source": "### 01. 라이브러리 임포트"
    },
    {
      "metadata": {
        "trusted": true
      },
      "cell_type": "code",
      "source": "import tensorflow as tf",
      "execution_count": 3,
      "outputs": []
    },
    {
      "metadata": {
        "trusted": true
      },
      "cell_type": "code",
      "source": "print(tf.__version__)",
      "execution_count": 4,
      "outputs": [
        {
          "output_type": "stream",
          "text": "1.1.0\n",
          "name": "stdout"
        }
      ]
    },
    {
      "metadata": {},
      "cell_type": "markdown",
      "source": "### 02. 값을 저장하기\n* Tensor라는 자료형\n* Rank(), Shape() : 랭크는 차원의 수\n   * 랭크가 0이면 스칼라, 1이면 벡터, 2이면 행렬, 3이상이면 n-Tensor 또는 n차원 텐서\n* dtype(자료형) : 문자열"
    },
    {
      "metadata": {
        "trusted": true
      },
      "cell_type": "code",
      "source": "hello = tf.constant(\"Hello, Tensorflow\")  # 상수값 저장\nprint(hello)",
      "execution_count": 10,
      "outputs": [
        {
          "output_type": "stream",
          "text": "Tensor(\"Const_1:0\", shape=(), dtype=string)\n",
          "name": "stdout"
        }
      ]
    },
    {
      "metadata": {
        "trusted": true
      },
      "cell_type": "code",
      "source": "sess = tf.Session()\nsess.run(tf.global_variables_initializer())\nprint( sess.run(hello) )\nsess.close()",
      "execution_count": 9,
      "outputs": [
        {
          "output_type": "stream",
          "text": "b'Hello, Tensorflow'\n",
          "name": "stdout"
        }
      ]
    },
    {
      "metadata": {},
      "cell_type": "markdown",
      "source": "### 03. 텐서플로워 연산\n* 그래프의 생성과 그래프의 실행\n  * 텐서와 텐서의 연산을 먼저 정의하여 그래프를 생성하는 1단계\n  * 필요할 때, 연산을 실행하는 코드를 넣어 '원하는 시점'에 실제 연산을 수행하도록 한다.(지연실행) \n\n### 3-1 그래프의 생성\n* 그래프는 간단하게 말하면 텐서들의 연산 모음.\n* 텐서와 텐서의 연산들을 먼저 정의하여 그래프를 만든다."
    },
    {
      "metadata": {
        "trusted": true
      },
      "cell_type": "code",
      "source": "# 다양한 값의 연산\na = tf.constant(10)\nb = tf.constant(25)\nc = tf.add(a,b)\nprint(c)\nprint(type(c))",
      "execution_count": 11,
      "outputs": [
        {
          "output_type": "stream",
          "text": "Tensor(\"Add:0\", shape=(), dtype=int32)\n<class 'tensorflow.python.framework.ops.Tensor'>\n",
          "name": "stdout"
        }
      ]
    },
    {
      "metadata": {},
      "cell_type": "markdown",
      "source": "### 3-2 그래프의 실행\n\n* 실제 연산 부분 C++로 구현한 코어 라이브러리에서 수행\n* 모델 구성과 실행을 분리하여 **프로그램을 깔끔**하게 작성"
    },
    {
      "metadata": {},
      "cell_type": "markdown",
      "source": "### 플레이스 홀더 선언\n * 그래프에 사용할 입력값을 받기 위해 사용하는 매개변수(parameter)"
    },
    {
      "metadata": {
        "trusted": true
      },
      "cell_type": "code",
      "source": "# None은 크기가 정해져 있지 않음을 의미\nX = tf.placeholder(tf.float32, [None, 3])\nprint(X)",
      "execution_count": 12,
      "outputs": [
        {
          "output_type": "stream",
          "text": "Tensor(\"Placeholder:0\", shape=(?, 3), dtype=float32)\n",
          "name": "stdout"
        }
      ]
    },
    {
      "metadata": {},
      "cell_type": "markdown",
      "source": "### 추후에 플레이스 홀더에 넣을 값"
    },
    {
      "metadata": {
        "trusted": true
      },
      "cell_type": "code",
      "source": "x_data = [[1,2,3], [4,5,6]]\nprint(x_data)",
      "execution_count": 13,
      "outputs": [
        {
          "output_type": "stream",
          "text": "[[1, 2, 3], [4, 5, 6]]\n",
          "name": "stdout"
        }
      ]
    },
    {
      "metadata": {},
      "cell_type": "markdown",
      "source": "### 변수 정의\n* tf.random_normal 함수를 이용한 정규 분포의 무작위 행렬 3,2 생성"
    },
    {
      "metadata": {
        "trusted": true
      },
      "cell_type": "code",
      "source": "W = tf.Variable(tf.random_normal([3,2]))\nb = tf.Variable(tf.random_normal([2,1]))\nprint(W)\nprint(b)",
      "execution_count": 14,
      "outputs": [
        {
          "output_type": "stream",
          "text": "<tf.Variable 'Variable:0' shape=(3, 2) dtype=float32_ref>\n<tf.Variable 'Variable_1:0' shape=(2, 1) dtype=float32_ref>\n",
          "name": "stdout"
        }
      ]
    },
    {
      "metadata": {},
      "cell_type": "markdown",
      "source": "### 수식계산"
    },
    {
      "metadata": {
        "trusted": true
      },
      "cell_type": "code",
      "source": "# X = tf.placeholder(tf.float32, [None, 3])   # [? * 3] X [3 * 2] => ? X 2 \n# W = tf.Variable(tf.random_normal([3,2]))\n\nexpr = tf.matmul(X, W) + b\nexpr",
      "execution_count": 15,
      "outputs": [
        {
          "output_type": "execute_result",
          "execution_count": 15,
          "data": {
            "text/plain": "<tf.Tensor 'add:0' shape=(2, 2) dtype=float32>"
          },
          "metadata": {}
        }
      ]
    },
    {
      "metadata": {},
      "cell_type": "markdown",
      "source": "### 연산 실행 및 출력"
    },
    {
      "metadata": {
        "trusted": true
      },
      "cell_type": "code",
      "source": "sess = tf.Session()\nsess.run(tf.global_variables_initializer())\n\nprint(\"=== x_data ===\")\nprint(x_data)\nprint(\"=== W matrix ===\")\nprint(sess.run(W))\nprint(\"=== b ===\")\nprint(sess.run(b)) \nprint(\"=== expr ===\")\nprint(sess.run(expr, feed_dict={X:x_data}))\n\nsess.close()",
      "execution_count": 16,
      "outputs": [
        {
          "output_type": "stream",
          "text": "=== x_data ===\n[[1, 2, 3], [4, 5, 6]]\n=== W matrix ===\n[[-0.18254983 -1.2571796 ]\n [ 0.7133903  -1.3676262 ]\n [ 1.4471506  -0.27877805]]\n=== b ===\n[[ 0.28969684]\n [-0.28116333]]\n=== expr ===\n[[  5.875379   -4.5390697]\n [ 11.238492  -13.820682 ]]\n",
          "name": "stdout"
        }
      ]
    },
    {
      "metadata": {},
      "cell_type": "markdown",
      "source": "### REF\n* Tensor의 개념 정리 : https://rekt77.tistory.com/102\n* Tensorflow 기본 동작 원리 : SungKim교수님의 모두의 딥러닝 http://bitly.kr/TqlLfoQs"
    },
    {
      "metadata": {
        "trusted": true
      },
      "cell_type": "code",
      "source": "",
      "execution_count": null,
      "outputs": []
    }
  ],
  "metadata": {
    "kernelspec": {
      "name": "python3",
      "display_name": "Python 3",
      "language": "python"
    },
    "language_info": {
      "mimetype": "text/x-python",
      "nbconvert_exporter": "python",
      "name": "python",
      "pygments_lexer": "ipython3",
      "version": "3.5.4",
      "file_extension": ".py",
      "codemirror_mode": {
        "version": 3,
        "name": "ipython"
      }
    }
  },
  "nbformat": 4,
  "nbformat_minor": 2
}