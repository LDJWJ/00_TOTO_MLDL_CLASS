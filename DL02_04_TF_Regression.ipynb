{
 "cells": [
  {
   "cell_type": "markdown",
   "metadata": {
    "collapsed": true
   },
   "source": [
    "### 회귀 모델 만들어보기\n",
    "* 학습 내용\n",
    "  * 01. 회귀 모델에 대해 이해해 본다.\n",
    "  * 02. 그래디언트 디센트에 대해 이해해 본다."
   ]
  },
  {
   "cell_type": "code",
   "execution_count": 3,
   "metadata": {},
   "outputs": [],
   "source": [
    "import tensorflow as tf"
   ]
  },
  {
   "cell_type": "code",
   "execution_count": 2,
   "metadata": {},
   "outputs": [
    {
     "name": "stdout",
     "output_type": "stream",
     "text": [
      "1.1.0\n"
     ]
    }
   ],
   "source": [
    "print(tf.__version__)"
   ]
  },
  {
   "cell_type": "code",
   "execution_count": 4,
   "metadata": {},
   "outputs": [],
   "source": [
    "x_data=[1,2,3]\n",
    "y_data=[70,80,90]"
   ]
  },
  {
   "cell_type": "code",
   "execution_count": 5,
   "metadata": {},
   "outputs": [
    {
     "name": "stderr",
     "output_type": "stream",
     "text": [
      "/home/nbuser/anaconda3_420/lib/python3.5/site-packages/matplotlib/font_manager.py:281: UserWarning: Matplotlib is building the font cache using fc-list. This may take a moment.\n",
      "  'Matplotlib is building the font cache using fc-list. '\n"
     ]
    }
   ],
   "source": [
    "import matplotlib.pyplot as plt"
   ]
  },
  {
   "cell_type": "code",
   "execution_count": 6,
   "metadata": {},
   "outputs": [
    {
     "data": {
      "text/plain": [
       "[<matplotlib.lines.Line2D at 0x7f5384a720b8>]"
      ]
     },
     "execution_count": 6,
     "metadata": {},
     "output_type": "execute_result"
    },
    {
     "data": {
      "image/png": "[encoded data removed]",
      "text/plain": [
       "<matplotlib.figure.Figure at 0x7f537f473da0>"
      ]
     },
     "metadata": {},
     "output_type": "display_data"
    }
   ],
   "source": [
    "plt.plot(x_data, y_data)"
   ]
  },
  {
   "cell_type": "code",
   "execution_count": 7,
   "metadata": {},
   "outputs": [],
   "source": [
    "W = tf.Variable(tf.random_uniform([1], -1.0, 1.0))\n",
    "b = tf.Variable(tf.random_uniform([1], -1.0, 1.0))"
   ]
  },
  {
   "cell_type": "code",
   "execution_count": 8,
   "metadata": {},
   "outputs": [],
   "source": [
    "## X, Y 플레이스 홀더로\n",
    "X = tf.placeholder(tf.float32, name='X')\n",
    "Y = tf.placeholder(tf.float32, name='Y')\n",
    "\n",
    "hypothesis =  W * X + b"
   ]
  },
  {
   "cell_type": "code",
   "execution_count": 10,
   "metadata": {},
   "outputs": [],
   "source": [
    "### 비용함수(cost), 최적화 함수(optimizer), 비용을 최적화\n",
    "cost = tf.reduce_mean(tf.square(hypothesis - Y))\n",
    "optimizer = tf.train.GradientDescentOptimizer(learning_rate=0.1)\n",
    "train_op = optimizer.minimize(cost)"
   ]
  },
  {
   "cell_type": "markdown",
   "metadata": {},
   "source": [
    "### 학습하기"
   ]
  },
  {
   "cell_type": "code",
   "execution_count": 21,
   "metadata": {},
   "outputs": [
    {
     "name": "stdout",
     "output_type": "stream",
     "text": [
      "0 6847.521 [33.6674] [15.510899]\n",
      "1 381.52844 [29.373468] [14.941759]\n",
      "2 290.05338 [29.314861] [16.20402]\n",
      "3 275.39938 [28.806051] [17.237272]\n",
      "4 262.3073 [28.358828] [18.267397]\n",
      "5 249.8474 [27.916964] [19.270386]\n",
      "6 237.97954 [27.48631] [20.249523]\n",
      "7 226.67528 [27.065945] [21.205095]\n",
      "8 215.90796 [26.655693] [22.1377]\n",
      "9 205.65227 [26.2553] [23.047882]\n",
      "10 195.88356 [25.864534] [23.936186]\n",
      "11 186.57903 [25.48316] [24.803135]\n",
      "12 177.71632 [25.110958] [25.649244]\n",
      "13 169.2747 [24.7477] [26.475012]\n",
      "14 161.23409 [24.393173] [27.28093]\n",
      "15 153.57527 [24.047173] [28.067474]\n",
      "16 146.28033 [23.709488] [28.83511]\n",
      "17 139.33192 [23.379921] [29.584291]\n",
      "18 132.71356 [23.058279] [30.315466]\n",
      "19 126.40955 [22.744366] [31.02906]\n",
      "20 120.40499 [22.438002] [31.725502]\n",
      "21 114.68567 [22.139] [32.4052]\n",
      "22 109.23807 [21.847187] [33.06856]\n",
      "23 104.04913 [21.562387] [33.715973]\n",
      "24 99.10678 [21.284437] [34.347824]\n",
      "25 94.399055 [21.013166] [34.964485]\n",
      "26 89.91504 [20.748417] [35.566322]\n",
      "27 85.644005 [20.490032] [36.15369]\n",
      "28 81.575874 [20.23786] [36.72694]\n",
      "29 77.70099 [19.991747] [37.286407]\n",
      "30 74.01014 [19.751554] [37.832428]\n",
      "31 70.494545 [19.517132] [38.365322]\n",
      "32 67.14603 [19.288347] [38.885406]\n",
      "33 63.95656 [19.065062] [39.392986]\n",
      "34 60.918537 [18.847145] [39.888367]\n",
      "35 58.02486 [18.634462] [40.371834]\n",
      "36 55.26866 [18.426897] [40.84368]\n",
      "37 52.643368 [18.22432] [41.304188]\n",
      "38 50.14273 [18.026615] [41.753624]\n",
      "39 47.760906 [17.833658] [42.192253]\n",
      "40 45.49226 [17.645342] [42.62034]\n",
      "41 43.331345 [17.461554] [43.038136]\n",
      "42 41.273045 [17.282185] [43.44589]\n",
      "43 39.312557 [17.107124] [43.843838]\n",
      "44 37.445156 [16.936274] [44.23222]\n",
      "45 35.66651 [16.76953] [44.611267]\n",
      "46 33.97229 [16.606794] [44.9812]\n",
      "47 32.35858 [16.447971] [45.342243]\n",
      "48 30.821539 [16.292967] [45.694607]\n",
      "49 29.357489 [16.14169] [46.038498]\n",
      "50 27.962984 [15.994047] [46.374123]\n",
      "51 26.634726 [15.849955] [46.70168]\n",
      "52 25.36955 [15.709326] [47.021362]\n",
      "53 24.164473 [15.572077] [47.33336]\n",
      "54 23.01668 [15.438128] [47.637856]\n",
      "55 21.923347 [15.3074] [47.93503]\n",
      "56 20.881979 [15.179813] [48.225067]\n",
      "57 19.890078 [15.055293] [48.50813]\n",
      "58 18.945276 [14.933767] [48.784386]\n",
      "59 18.045351 [14.815165] [49.054]\n",
      "60 17.18821 [14.69941] [49.317135]\n",
      "61 16.371733 [14.586439] [49.573944]\n",
      "62 15.594055 [14.476185] [49.82458]\n",
      "63 14.85334 [14.368581] [50.06919]\n",
      "64 14.147785 [14.263562] [50.30792]\n",
      "65 13.475762 [14.161071] [50.54091]\n",
      "66 12.835663 [14.06104] [50.7683]\n",
      "67 12.225952 [13.963417] [50.990223]\n",
      "68 11.645213 [13.868138] [51.20681]\n",
      "69 11.092055 [13.775152] [51.418194]\n",
      "70 10.565188 [13.684399] [51.624493]\n",
      "71 10.063331 [13.59583] [51.825836]\n",
      "72 9.585303 [13.509387] [52.022335]\n",
      "73 9.129993 [13.425026] [52.214115]\n",
      "74 8.696316 [13.342689] [52.401283]\n",
      "75 8.283235 [13.262332] [52.58395]\n",
      "76 7.8897667 [13.18391] [52.762226]\n",
      "77 7.5150056 [13.107369] [52.93622]\n",
      "78 7.158048 [13.03267] [53.106026]\n",
      "79 6.818037 [12.959767] [53.27175]\n",
      "80 6.494162 [12.8886175] [53.433495]\n",
      "81 6.1856894 [12.819176] [53.591347]\n",
      "82 5.891866 [12.751407] [53.745407]\n",
      "83 5.612003 [12.685265] [53.895763]\n",
      "84 5.345426 [12.620713] [54.042503]\n",
      "85 5.091524 [12.557713] [54.18572]\n",
      "86 4.8496604 [12.496226] [54.32549]\n",
      "87 4.6192937 [12.43622] [54.461903]\n",
      "88 4.3998814 [12.377652] [54.59503]\n",
      "89 4.1908793 [12.3204975] [54.724964]\n",
      "90 3.9918163 [12.264713] [54.851772]\n",
      "91 3.8022003 [12.210273] [54.975533]\n",
      "92 3.6215928 [12.157138] [55.096317]\n",
      "93 3.4495652 [12.105282] [55.2142]\n",
      "94 3.2857068 [12.054673] [55.329247]\n",
      "95 3.1296399 [12.005279] [55.44153]\n",
      "96 2.9809723 [11.957073] [55.55111]\n",
      "97 2.839385 [11.9100275] [55.65806]\n",
      "98 2.704502 [11.864113] [55.762436]\n",
      "99 2.5760367 [11.8193] [55.864304]\n",
      "\n",
      "=== Test ===\n"
     ]
    }
   ],
   "source": [
    "sess = tf.Session()\n",
    "sess.run(tf.global_variables_initializer())\n",
    "    \n",
    "for step in range(100):\n",
    "    _, cost_val = sess.run([train_op, cost], feed_dict={X:x_data, \n",
    "                                                            Y:y_data})\n",
    "        \n",
    "    print(step, cost_val, sess.run(W), sess.run(b))\n",
    "\n",
    "print(\"\\n=== Test ===\")"
   ]
  },
  {
   "cell_type": "code",
   "execution_count": 22,
   "metadata": {},
   "outputs": [
    {
     "name": "stdout",
     "output_type": "stream",
     "text": [
      "hypothese = [11.8193] * X + [55.864304]\n"
     ]
    }
   ],
   "source": [
    "print(\"hypothese = {} * X + {}\".format(sess.run(W), sess.run(b) ) )\n",
    "sess.close()"
   ]
  }
 ],
 "metadata": {
  "kernelspec": {
   "display_name": "Python 3",
   "language": "python",
   "name": "python3"
  },
  "language_info": {
   "codemirror_mode": {
    "name": "ipython",
    "version": 3
   },
   "file_extension": ".py",
   "mimetype": "text/x-python",
   "name": "python",
   "nbconvert_exporter": "python",
   "pygments_lexer": "ipython3",
   "version": "3.7.0"
  }
 },
 "nbformat": 4,
 "nbformat_minor": 2
}
