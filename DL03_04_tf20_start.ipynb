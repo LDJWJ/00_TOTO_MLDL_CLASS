{
  "nbformat": 4,
  "nbformat_minor": 0,
  "metadata": {
    "accelerator": "GPU",
    "colab": {
      "name": "CL03A_tf20_start.ipynb",
      "provenance": []
    },
    "kernelspec": {
      "name": "python3",
      "display_name": "Python 3"
    },
    "language_info": {
      "codemirror_mode": {
        "name": "ipython",
        "version": 3
      },
      "file_extension": ".py",
      "mimetype": "text/x-python",
      "name": "python",
      "nbconvert_exporter": "python",
      "pygments_lexer": "ipython3",
      "version": "3.6.5"
    }
  },
  "cells": [
    {
      "cell_type": "markdown",
      "metadata": {
        "id": "5uCGgIFrxBYM",
        "colab_type": "text"
      },
      "source": [
        "#### colab으로 시작하기\n",
        "\n",
        "<a href=\"https://colab.research.google.com/github/LDJWJ/00_TOTO_MLDL_CLASS/blob/master/DL03_04_tf20_start.ipynb\" target=\"_parent\"><img src=\"https://colab.research.google.com/assets/colab-badge.svg\" alt=\"Open In Colab\"/></a>"
      ]
    },
    {
      "cell_type": "markdown",
      "metadata": {
        "colab_type": "text",
        "id": "75yRvTHWRr39"
      },
      "source": [
        "### TF2.0 신경망 만들기\n",
        "* 손글씨 데이터 셋을 이용한 신경망 만들기"
      ]
    },
    {
      "cell_type": "markdown",
      "metadata": {
        "colab_type": "text",
        "id": "Vk7751HuR2Uc"
      },
      "source": [
        "### 사전 작업\n",
        "* %tensorflow_version 2.x 로 tf2.x 선택 가능\n",
        "* 또는\n",
        "* tf2.0 설치 후, 재시작(설치 적용을 위해)\n",
        "* 런타임 - 런타임 유형 변경 - GPU 설정\n",
        "```\n",
        "!pip install -q tensorflow-gpu==2.0.0-rc1\n",
        "import tensorflow as tf\n",
        "```\n"
      ]
    },
    {
      "cell_type": "code",
      "metadata": {
        "id": "Ki50lsFuxUeD",
        "colab_type": "code",
        "colab": {}
      },
      "source": [
        "%tensorflow_version 2.x"
      ],
      "execution_count": 0,
      "outputs": []
    },
    {
      "cell_type": "code",
      "metadata": {
        "colab_type": "code",
        "id": "8zvit86SRAkk",
        "colab": {}
      },
      "source": [
        "import tensorflow as tf"
      ],
      "execution_count": 0,
      "outputs": []
    },
    {
      "cell_type": "code",
      "metadata": {
        "colab_type": "code",
        "id": "VdDIjrb8RnxA",
        "outputId": "73f71bbf-cbef-482c-d985-f3c35e7ab2f4",
        "colab": {
          "base_uri": "https://localhost:8080/",
          "height": 35
        }
      },
      "source": [
        "print(tf.__version__)"
      ],
      "execution_count": 4,
      "outputs": [
        {
          "output_type": "stream",
          "text": [
            "2.1.0\n"
          ],
          "name": "stdout"
        }
      ]
    },
    {
      "cell_type": "markdown",
      "metadata": {
        "colab_type": "text",
        "id": "SoBHbsJxYxsJ"
      },
      "source": [
        "### MNIST 데이터 셋을 이용한 신경망 구성"
      ]
    },
    {
      "cell_type": "code",
      "metadata": {
        "colab_type": "code",
        "id": "n5cH9fFCSGZr",
        "outputId": "9f360d88-3edb-4725-f478-5b9584264449",
        "colab": {
          "base_uri": "https://localhost:8080/",
          "height": 52
        }
      },
      "source": [
        "mnist = tf.keras.datasets.mnist\n",
        "\n",
        "(x_train, y_train), (x_test, y_test) = mnist.load_data()\n",
        "x_train, x_test = x_train / 255.0, x_test / 255.0"
      ],
      "execution_count": 5,
      "outputs": [
        {
          "output_type": "stream",
          "text": [
            "Downloading data from https://storage.googleapis.com/tensorflow/tf-keras-datasets/mnist.npz\n",
            "11493376/11490434 [==============================] - 0s 0us/step\n"
          ],
          "name": "stdout"
        }
      ]
    },
    {
      "cell_type": "code",
      "metadata": {
        "colab_type": "code",
        "id": "hTGngeNXYs5w",
        "outputId": "829df4e8-4cc1-491b-9aeb-f2b2acf62021",
        "colab": {
          "base_uri": "https://localhost:8080/",
          "height": 52
        }
      },
      "source": [
        "print(\"학습용 데이터 : x: {}, y:{}\".format(x_train.shape, y_train.shape) )\n",
        "print(\"테스트 데이터 : x: {}, y:{}\".format(x_test.shape, y_test.shape) )"
      ],
      "execution_count": 6,
      "outputs": [
        {
          "output_type": "stream",
          "text": [
            "학습용 데이터 : x: (60000, 28, 28), y:(60000,)\n",
            "테스트 데이터 : x: (10000, 28, 28), y:(10000,)\n"
          ],
          "name": "stdout"
        }
      ]
    },
    {
      "cell_type": "markdown",
      "metadata": {
        "colab_type": "text",
        "id": "XNTRQwubYs9e"
      },
      "source": [
        "### 신경망 구성\n",
        "* tf.keras.Sequential를 이용한 모델 구성"
      ]
    },
    {
      "cell_type": "code",
      "metadata": {
        "colab_type": "code",
        "id": "qFZws9ifYtBv",
        "colab": {}
      },
      "source": [
        "model = tf.keras.models.Sequential([\n",
        "  tf.keras.layers.Flatten(input_shape=(28, 28)),    # 2D -> 1D\n",
        "  tf.keras.layers.Dense(128, activation='relu'),    # 활성화 함수 - relu\n",
        "  tf.keras.layers.Dropout(0.2),                     # Dropout적용\n",
        "  tf.keras.layers.Dense(10, activation='softmax')   # 활성화 함수 - softmax\n",
        "])"
      ],
      "execution_count": 0,
      "outputs": []
    },
    {
      "cell_type": "markdown",
      "metadata": {
        "colab_type": "text",
        "id": "ezu4Dmf0a6WO"
      },
      "source": [
        "### 구성\n",
        "* sparse_categorical_crossentropy : 다중 분류 손실함수 (정수값 기준)\n",
        "* categorical_crossentropy : 다중 분류 손실함수 (one-hot-encoding 기준 (예측과 실제 결과값))"
      ]
    },
    {
      "cell_type": "code",
      "metadata": {
        "colab_type": "code",
        "id": "Nwrj4aQ2YtFP",
        "colab": {}
      },
      "source": [
        "model.compile(optimizer='adam',\n",
        "              loss='sparse_categorical_crossentropy',\n",
        "              metrics=['accuracy'])"
      ],
      "execution_count": 0,
      "outputs": []
    },
    {
      "cell_type": "markdown",
      "metadata": {
        "colab_type": "text",
        "id": "WG2IuwhVSGdr"
      },
      "source": [
        "### 모델 훈련 및 평가"
      ]
    },
    {
      "cell_type": "code",
      "metadata": {
        "colab_type": "code",
        "id": "Z-gNEJjASGh7",
        "outputId": "d1252be5-49b2-4738-a1b2-236f050779b8",
        "colab": {
          "base_uri": "https://localhost:8080/",
          "height": 248
        }
      },
      "source": [
        "model.fit(x_train, y_train, epochs=5)\n",
        "model.evaluate(x_test,  y_test, verbose=2)"
      ],
      "execution_count": 10,
      "outputs": [
        {
          "output_type": "stream",
          "text": [
            "Train on 60000 samples\n",
            "Epoch 1/5\n",
            "60000/60000 [==============================] - 6s 96us/sample - loss: 0.2964 - accuracy: 0.9140\n",
            "Epoch 2/5\n",
            "60000/60000 [==============================] - 4s 65us/sample - loss: 0.1434 - accuracy: 0.9577\n",
            "Epoch 3/5\n",
            "60000/60000 [==============================] - 4s 64us/sample - loss: 0.1065 - accuracy: 0.9677\n",
            "Epoch 4/5\n",
            "60000/60000 [==============================] - 4s 64us/sample - loss: 0.0855 - accuracy: 0.9733\n",
            "Epoch 5/5\n",
            "60000/60000 [==============================] - 4s 65us/sample - loss: 0.0747 - accuracy: 0.9768\n",
            "10000/10000 - 1s - loss: 0.0717 - accuracy: 0.9780\n"
          ],
          "name": "stdout"
        },
        {
          "output_type": "execute_result",
          "data": {
            "text/plain": [
              "[0.07174534353353083, 0.978]"
            ]
          },
          "metadata": {
            "tags": []
          },
          "execution_count": 10
        }
      ]
    },
    {
      "cell_type": "markdown",
      "metadata": {
        "colab_type": "text",
        "id": "56X_jyYWSGs8"
      },
      "source": [
        "### REF\n",
        "* TF2.0 Tutorial : https://www.tensorflow.org/tutorials/quickstart/beginner\n",
        "* tf.keras.Sequential : https://www.tensorflow.org/api_docs/python/tf/keras/Sequential"
      ]
    }
  ]
}