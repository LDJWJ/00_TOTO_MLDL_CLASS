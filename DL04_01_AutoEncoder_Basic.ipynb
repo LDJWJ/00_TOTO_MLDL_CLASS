{
 "cells": [
  {
   "cell_type": "markdown",
   "metadata": {},
   "source": [
    "## 04. 대표적 비지도 학습법 - Autoencoder"
   ]
  },
  {
   "cell_type": "markdown",
   "metadata": {},
   "source": [
    "## 학습 내용\n",
    "### 01. Autoencoder란?\n",
    "### 02. 간단한 예제를 보자.\n",
    "  * MNIST 데이터 셋을 활용하여 간단한 오토 인코더 신경망을 구성해 보기\n",
    "  \n",
    "### 03. 왜 사용되는가?"
   ]
  },
  {
   "cell_type": "markdown",
   "metadata": {},
   "source": [
    "### 01. Autoencoder란?\n",
    " * **Generative model learning**, **Dimensionality reduction**, **Representation learning**, **Unsupervised learning**\n",
    " * 머신러닝 학습 방법은 크게 지도학습과 비지도 학습으로 나눌 수 있다.\n",
    " * 비지도 학습 중 가장 널리 쓰이는 신경망으로 오토인코더(Autoencoder)가 있다.\n",
    " * 입력값과 출력값을 같게 하는 신경망이다.\n",
    " * 가운데 계층의 노드 수가 입력값보다 적은 것이 특징이다 - 노이즈 제거에 매우 효과적\n",
    " * 오토 인코더의 개념은 데이터 생성 모델 학습에 넓게 사용되고 있다."
   ]
  },
  {
   "cell_type": "markdown",
   "metadata": {},
   "source": [
    "### 가. 비지도 학습 중 가장 널리 쓰이는 신경망으로 오토 인코더(AutoEncoder)가 있다."
   ]
  },
  {
   "cell_type": "markdown",
   "metadata": {},
   "source": [
    "### 나. 오토 인코더는 입력값과 출력값을 같게 하는 신경망이다.\n",
    " * 입력층으로 들어온 데이터를 인코더를 통해 은닉층으로 내보낸다. **(입력층 -> 인코더 -> 은닉층)**\n",
    " * 은닉층의 데이터를 디코더를 통해 출력층으로 내보낸다.  **(은닉층 -> 디코더 -> 출력층)**\n",
    " * 만들어진 출력값을 입력값과 비슷해지도록 만드는 가중치를 찾아내는 것이다."
   ]
  },
  {
   "cell_type": "markdown",
   "metadata": {},
   "source": [
    "### 다. 가운데 계층의 노드 수가 입력값보다 적은 것이 특징이다.\n",
    " * 결과적으로 입력 데이터를 압축하는 효과를 얻는다. 이 과정이 노이즈 제거에 많이 효과적이다."
   ]
  },
  {
   "cell_type": "markdown",
   "metadata": {},
   "source": [
    "### 라. Autoencoder의 종류\n",
    "* 변이형 오토 인코더(Variational Autoencoder) - Variational AE(VAE), Conditional VAE(CVAE), Adversarial AE(AAE)\n",
    "* 그외, 잡음제거 오토 인코더(Denoising Autoencoder) Contracitve AE(CAE) 등의 다양한 방식의 오토 인코더가 있다."
   ]
  },
  {
   "cell_type": "markdown",
   "metadata": {},
   "source": [
    "### 마. 학습된 인코더에서의 각 역할\n",
    "* 인코더는 차원 축소의 역할을 수행 --> **Manifold learning**\n",
    "* 디코더는 생성 모델의 역할을 수행 --> **Generative model learning**"
   ]
  },
  {
   "cell_type": "markdown",
   "metadata": {},
   "source": [
    "## 메모 : \n",
    " *  (01) 입력층으로 들어온 데이터를 인코더를 통해 은닉층으로 내보낸다.\n",
    " *  (02) 은닉층의 데이터를 디코더를 통해 출력층으로 내보낸다.\n",
    " *  (03) 만들어진 출력값과 입력값이 같아지도록 만드는 가중치를 찾아낸다."
   ]
  },
  {
   "cell_type": "markdown",
   "metadata": {},
   "source": [
    "### 02. 간단한 예제를 통한 확인"
   ]
  },
  {
   "cell_type": "code",
   "execution_count": 16,
   "metadata": {},
   "outputs": [],
   "source": [
    "import tensorflow as tf\n",
    "import numpy as np\n",
    "import matplotlib as ml\n",
    "import matplotlib.pyplot as plt"
   ]
  },
  {
   "cell_type": "code",
   "execution_count": 17,
   "metadata": {},
   "outputs": [
    {
     "name": "stdout",
     "output_type": "stream",
     "text": [
      "tf 버전 : 1.5.0\n",
      "numpy 버전 : 1.18.0\n",
      "matplotlib 버전 : 2.2.2\n"
     ]
    }
   ],
   "source": [
    "print(\"tf 버전 :\" , tf.__version__)\n",
    "print(\"numpy 버전 :\" ,np.__version__)\n",
    "print(\"matplotlib 버전 :\" , ml.__version__)"
   ]
  },
  {
   "cell_type": "markdown",
   "metadata": {},
   "source": [
    "### 데이터 불러오기"
   ]
  },
  {
   "cell_type": "code",
   "execution_count": 18,
   "metadata": {},
   "outputs": [
    {
     "name": "stdout",
     "output_type": "stream",
     "text": [
      "Extracting ./mnist/data/train-images-idx3-ubyte.gz\n",
      "Extracting ./mnist/data/train-labels-idx1-ubyte.gz\n",
      "Extracting ./mnist/data/t10k-images-idx3-ubyte.gz\n",
      "Extracting ./mnist/data/t10k-labels-idx1-ubyte.gz\n"
     ]
    }
   ],
   "source": [
    "from tensorflow.examples.tutorials.mnist import input_data\n",
    "mnist = input_data.read_data_sets(\"./mnist/data/\", one_hot=True)"
   ]
  },
  {
   "cell_type": "markdown",
   "metadata": {},
   "source": [
    "### 신경망 기본 설정"
   ]
  },
  {
   "cell_type": "code",
   "execution_count": 19,
   "metadata": {},
   "outputs": [],
   "source": [
    "learning_rate = 0.01    # 학습율 0.01\n",
    "training_epoch = 20     # 전체 데이터 훈련 횟수 20회 \n",
    "batch_size = 100        # 배치 사이즈 100\n",
    "n_hidden = 256          # 은닉층의 개수 256\n",
    "n_input = 28 * 28       # 784개 (입력층) "
   ]
  },
  {
   "cell_type": "markdown",
   "metadata": {},
   "source": [
    "### 인코더 만들기 \n",
    " * (1) 맨처음은 n_hidden개의 뉴런을 만든다. \n",
    "    * 가중치와 편향 변수를 원하는 뉴런의 개수만큼 설정한다.\n",
    " * (2) 변수들을 입력값과 곱하고 더한 후, 활성화 함수 sigmoid 함수를 적용한다.\n",
    "    * n_input 값보다 n_hidden 값이 더 작다."
   ]
  },
  {
   "cell_type": "code",
   "execution_count": 20,
   "metadata": {},
   "outputs": [],
   "source": [
    "X = tf.placeholder(tf.float32, [None, n_input]) # X 플레이스 홀더, 비지도학습 Y가 없음."
   ]
  },
  {
   "cell_type": "markdown",
   "metadata": {},
   "source": [
    "### 인코더와 디코더를 만들기(은닉층)\n",
    "* n_hidden개의 뉴런을 가진 은닉층 만들기\n",
    "* 가중치(W_encode), 편향변수(b_encode)를 뉴런 개수 만큼 설정\n",
    "* 활성화 함수 적용(sigmoid)"
   ]
  },
  {
   "cell_type": "code",
   "execution_count": 21,
   "metadata": {},
   "outputs": [],
   "source": [
    "W_encode = tf.Variable(tf.random_normal([n_input, n_hidden]))\n",
    "b_encode = tf.Variable(tf.random_normal([n_hidden]))\n",
    "encoder = tf.nn.sigmoid(tf.add(tf.matmul(X, W_encode), b_encode))"
   ]
  },
  {
   "cell_type": "markdown",
   "metadata": {},
   "source": [
    "### 디코더 만들기\n",
    " * 입력층을 은닉층의 크기로 출력값을 입력층의 크기로 만듬."
   ]
  },
  {
   "cell_type": "code",
   "execution_count": 22,
   "metadata": {},
   "outputs": [],
   "source": [
    "W_decode = tf.Variable(tf.random_normal([n_hidden, n_input]))\n",
    "b_decode = tf.Variable(tf.random_normal([n_input]))\n",
    "decoder = tf.nn.sigmoid(tf.add(tf.matmul(encoder, W_decode), b_decode))"
   ]
  },
  {
   "cell_type": "markdown",
   "metadata": {},
   "source": [
    "### 손실함수, 최적화 알고리즘 적용시키기\n",
    "* 입력값을 X를 평가하기 위한 실측값으로 사용한다.\n",
    "* 디코더가 내보낸 결과값의 차이를 손실값으로 설정한다.\n",
    "* 손실함수(MSE-Mean Squared Error 적용)\n",
    "* RMSPropOptimizer 함수를 이용하여 최적화 알고리즘 적용"
   ]
  },
  {
   "cell_type": "code",
   "execution_count": 23,
   "metadata": {},
   "outputs": [],
   "source": [
    "cost = tf.reduce_mean(tf.pow(X- decoder, 2))\n",
    "optimizer = tf.train.RMSPropOptimizer(learning_rate).minimize(cost)"
   ]
  },
  {
   "cell_type": "markdown",
   "metadata": {},
   "source": [
    "### 그래프 실행 - 학습을 진행"
   ]
  },
  {
   "cell_type": "code",
   "execution_count": 24,
   "metadata": {},
   "outputs": [
    {
     "name": "stdout",
     "output_type": "stream",
     "text": [
      "Epoch: 0001 Avg. cost= 0.2047\n",
      "Epoch: 0002 Avg. cost= 0.0641\n",
      "Epoch: 0003 Avg. cost= 0.0537\n",
      "Epoch: 0004 Avg. cost= 0.0491\n",
      "Epoch: 0005 Avg. cost= 0.0455\n",
      "Epoch: 0006 Avg. cost= 0.0432\n",
      "Epoch: 0007 Avg. cost= 0.0411\n",
      "Epoch: 0008 Avg. cost= 0.0395\n",
      "Epoch: 0009 Avg. cost= 0.0382\n",
      "Epoch: 0010 Avg. cost= 0.0367\n",
      "Epoch: 0011 Avg. cost= 0.0363\n",
      "Epoch: 0012 Avg. cost= 0.0360\n",
      "Epoch: 0013 Avg. cost= 0.0358\n",
      "Epoch: 0014 Avg. cost= 0.0355\n",
      "Epoch: 0015 Avg. cost= 0.0351\n",
      "Epoch: 0016 Avg. cost= 0.0348\n",
      "Epoch: 0017 Avg. cost= 0.0340\n",
      "Epoch: 0018 Avg. cost= 0.0336\n",
      "Epoch: 0019 Avg. cost= 0.0334\n",
      "Epoch: 0020 Avg. cost= 0.0332\n",
      "최적화 완료!\n",
      "Wall time: 2min 2s\n"
     ]
    }
   ],
   "source": [
    "%%time\n",
    "\n",
    "init = tf.global_variables_initializer()  # 그래프 초기화 \n",
    "sess = tf.Session()                       # 세션 연결\n",
    "sess.run(init)                            # 세션 초기화\n",
    "\n",
    "total_batch = int(mnist.train.num_examples/batch_size) # 전체 배치에 따른 수행횟수\n",
    "\n",
    "for epoch in range(training_epoch):  # 전체 데이터 학습 수행횟수\n",
    "    total_cost = 0\n",
    "    \n",
    "    for i in range(total_batch):     # 배치 사이즈에 따른 학습 수행.(W값 업데이트)\n",
    "        batch_xs, batch_ys = mnist.train.next_batch(batch_size)\n",
    "        _, cost_val = sess.run([optimizer, cost], \n",
    "                              feed_dict={X:batch_xs})\n",
    "        total_cost += cost_val\n",
    "        \n",
    "    print('Epoch:', '%04d' % (epoch + 1), \n",
    "         'Avg. cost=', '{:.4f}'.format(total_cost / total_batch))\n",
    "    \n",
    "print('최적화 완료!')"
   ]
  },
  {
   "cell_type": "markdown",
   "metadata": {},
   "source": [
    "### 테스트 \n",
    "* 10개의 테스트 데이터를 가지고 학습한 신경망을 이용하여 출력값 생성해 보기"
   ]
  },
  {
   "cell_type": "code",
   "execution_count": 25,
   "metadata": {},
   "outputs": [
    {
     "data": {
      "text/plain": [
       "(784,)"
      ]
     },
     "execution_count": 25,
     "metadata": {},
     "output_type": "execute_result"
    }
   ],
   "source": [
    "mnist.test.images[0].shape"
   ]
  },
  {
   "cell_type": "code",
   "execution_count": 26,
   "metadata": {},
   "outputs": [],
   "source": [
    "sample_size = 10\n",
    "samples = sess.run(decoder, \n",
    "                  feed_dict = {X:mnist.test.images[:sample_size]})"
   ]
  },
  {
   "cell_type": "markdown",
   "metadata": {},
   "source": [
    "## 위쪽이 원본 데이터, 아래쪽이 신경망이 생성한 이미지"
   ]
  },
  {
   "cell_type": "code",
   "execution_count": 27,
   "metadata": {},
   "outputs": [
    {
     "data": {
      "image/png": "[encoded data removed]",
      "text/plain": [
       "<Figure size 720x144 with 20 Axes>"
      ]
     },
     "metadata": {},
     "output_type": "display_data"
    }
   ],
   "source": [
    "fig, ax = plt.subplots(2, sample_size, figsize=(sample_size, 2))\n",
    "\n",
    "for i in range(sample_size):\n",
    "    ax[0][i].set_axis_off()\n",
    "    ax[1][i].set_axis_off()\n",
    "    ax[0][i].imshow(np.reshape(mnist.test.images[i], (28,28)))\n",
    "    ax[1][i].imshow(np.reshape(samples[i], (28,28)))\n",
    "    \n",
    "plt.show()"
   ]
  },
  {
   "cell_type": "markdown",
   "metadata": {},
   "source": [
    "### 실습해 보기\n",
    "* 01 자신이 원하는 것을 하나 또는 두개를 변경한 이후에 오토인코더 신경망을 학습시켜보고, 이에 대한 결과를 확인해 보자.\n",
    "  * (사전 조건) epoch의 수는 20으로 동일하게 한다.\n",
    "  * cost를 확인 후, 전과 비교하여 이를 토대로 이야기를 해 보자."
   ]
  },
  {
   "cell_type": "code",
   "execution_count": null,
   "metadata": {},
   "outputs": [],
   "source": []
  }
 ],
 "metadata": {
  "kernelspec": {
   "display_name": "Python 3",
   "language": "python",
   "name": "python3"
  },
  "language_info": {
   "codemirror_mode": {
    "name": "ipython",
    "version": 3
   },
   "file_extension": ".py",
   "mimetype": "text/x-python",
   "name": "python",
   "nbconvert_exporter": "python",
   "pygments_lexer": "ipython3",
   "version": "3.6.5"
  }
 },
 "nbformat": 4,
 "nbformat_minor": 2
}
