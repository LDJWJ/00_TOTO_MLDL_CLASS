{
  "nbformat": 4,
  "nbformat_minor": 0,
  "metadata": {
    "kernelspec": {
      "name": "python3",
      "display_name": "Python 3"
    },
    "language_info": {
      "codemirror_mode": {
        "name": "ipython",
        "version": 3
      },
      "file_extension": ".py",
      "mimetype": "text/x-python",
      "name": "python",
      "nbconvert_exporter": "python",
      "pygments_lexer": "ipython3",
      "version": "3.6.5"
    },
    "colab": {
      "name": "DL04_02_GAN01_BASIC_v10.ipynb",
      "provenance": []
    },
    "accelerator": "GPU"
  },
  "cells": [
    {
      "cell_type": "markdown",
      "metadata": {
        "id": "h1Za3wRl2kkb",
        "colab_type": "text"
      },
      "source": [
        "#### colab로 시작하기\n",
        "\n",
        "<a href=\"https://colab.research.google.com/github/LDJWJ/00_TOTO_MLDL_CLASS/blob/master/DL04_02_GAN01_BASIC_v10.ipynb\" target=\"_parent\"><img src=\"https://colab.research.google.com/assets/colab-badge.svg\" alt=\"Open In Colab\"/></a>"
      ]
    },
    {
      "cell_type": "markdown",
      "metadata": {
        "id": "iHnsnFbP2kkm",
        "colab_type": "text"
      },
      "source": [
        "## GAN(Generative Adversarial Networks)"
      ]
    },
    {
      "cell_type": "markdown",
      "metadata": {
        "id": "-zIKU34-2kkv",
        "colab_type": "text"
      },
      "source": [
        "#### 딥러닝의 미래로 불리는 GAN은 **대립(adversarial)하는 두 신경망을 경쟁**시켜가며 결과물을 생성하는 방법이다."
      ]
    },
    {
      "cell_type": "markdown",
      "metadata": {
        "id": "rEEW39ug2kk2",
        "colab_type": "text"
      },
      "source": [
        "#### 실제이미지를 구분자(Discriminator)에게 이 이미지가 진짜임을 판단하게 하고, 생성자(Generator)를 통해 노이즈로부터 임의의 이미지를 만들고 이것을 다시 같은 구분자를 통해 진짜 이미지인지를 판단하게 한다."
      ]
    },
    {
      "cell_type": "markdown",
      "metadata": {
        "id": "WP0v-3KX2kk-",
        "colab_type": "text"
      },
      "source": [
        "### 응용 예 <br>\n",
        "\n",
        "(가) 고흐 풍 그림으로 그려주기 <br>\n",
        "(나) 선으로 그려진 만화를 자동으로 채색 <br>\n",
        "(다) 모자이크를 없애주기 <br>\n",
        "(라) GAN 기법을 이용한 자연어 문장 생성"
      ]
    },
    {
      "cell_type": "markdown",
      "metadata": {
        "id": "7l4WmAqj2klE",
        "colab_type": "text"
      },
      "source": [
        "### 이번시간의 학습 내용\n",
        "* 손글씨 데이터 셋(MNIST)을 이용하여 손글씨를 무작위로 생성하는 예제 만들기"
      ]
    },
    {
      "cell_type": "code",
      "metadata": {
        "id": "290jAHyq2klI",
        "colab_type": "code",
        "outputId": "bee4acca-33a9-4d96-8466-98807928737b",
        "colab": {
          "base_uri": "https://localhost:8080/",
          "height": 99
        }
      },
      "source": [
        "# 논문링크 : https://arxiv.org/abs/1406.2661\n",
        "\n",
        "import tensorflow as tf\n",
        "import matplotlib.pyplot as plt\n",
        "import numpy as np\n",
        "import matplotlib as ml\n",
        "\n",
        "print(\"tf : {}, numpy : {}, matplotlib : {}\".format(tf.__version__, \n",
        "                                                   ml.__version__, np.__version__))"
      ],
      "execution_count": 1,
      "outputs": [
        {
          "output_type": "display_data",
          "data": {
            "text/html": [
              "<p style=\"color: red;\">\n",
              "The default version of TensorFlow in Colab will soon switch to TensorFlow 2.x.<br>\n",
              "We recommend you <a href=\"https://www.tensorflow.org/guide/migrate\" target=\"_blank\">upgrade</a> now \n",
              "or ensure your notebook will continue to use TensorFlow 1.x via the <code>%tensorflow_version 1.x</code> magic:\n",
              "<a href=\"https://colab.research.google.com/notebooks/tensorflow_version.ipynb\" target=\"_blank\">more info</a>.</p>\n"
            ],
            "text/plain": [
              "<IPython.core.display.HTML object>"
            ]
          },
          "metadata": {
            "tags": []
          }
        },
        {
          "output_type": "stream",
          "text": [
            "tf : 1.15.0, numpy : 3.2.0, matplotlib : 1.18.2\n"
          ],
          "name": "stdout"
        }
      ]
    },
    {
      "cell_type": "code",
      "metadata": {
        "id": "PW-8mWO62klY",
        "colab_type": "code",
        "outputId": "b132d80e-f900-47c0-bd2f-8f597bb9667c",
        "colab": {
          "base_uri": "https://localhost:8080/",
          "height": 89
        }
      },
      "source": [
        "from tensorflow.examples.tutorials.mnist import input_data\n",
        "mnist = input_data.read_data_sets(\"./mnist/data/\", one_hot=True)"
      ],
      "execution_count": 21,
      "outputs": [
        {
          "output_type": "stream",
          "text": [
            "Extracting ./mnist/data/train-images-idx3-ubyte.gz\n",
            "Extracting ./mnist/data/train-labels-idx1-ubyte.gz\n",
            "Extracting ./mnist/data/t10k-images-idx3-ubyte.gz\n",
            "Extracting ./mnist/data/t10k-labels-idx1-ubyte.gz\n"
          ],
          "name": "stdout"
        }
      ]
    },
    {
      "cell_type": "code",
      "metadata": {
        "id": "FCK-OTp42klq",
        "colab_type": "code",
        "outputId": "4ec514e9-1925-47ef-8969-0285f6bbdaac",
        "colab": {
          "base_uri": "https://localhost:8080/",
          "height": 89
        }
      },
      "source": [
        "print(mnist.test.images.shape)\n",
        "print(mnist.test.labels.shape)\n",
        "print(mnist.train.images.shape)\n",
        "print(mnist.train.labels.shape)"
      ],
      "execution_count": 3,
      "outputs": [
        {
          "output_type": "stream",
          "text": [
            "(10000, 784)\n",
            "(10000, 10)\n",
            "(55000, 784)\n",
            "(55000, 10)\n"
          ],
          "name": "stdout"
        }
      ]
    },
    {
      "cell_type": "code",
      "metadata": {
        "id": "G-HclxIe2kl_",
        "colab_type": "code",
        "outputId": "17d60c86-a7d6-4603-805f-2146f2642649",
        "colab": {
          "base_uri": "https://localhost:8080/",
          "height": 35
        }
      },
      "source": [
        "print(type(mnist.train.images) )"
      ],
      "execution_count": 4,
      "outputs": [
        {
          "output_type": "stream",
          "text": [
            "<class 'numpy.ndarray'>\n"
          ],
          "name": "stdout"
        }
      ]
    },
    {
      "cell_type": "code",
      "metadata": {
        "id": "FZEM2SJM2kmX",
        "colab_type": "code",
        "outputId": "33bee91f-de77-44ab-9f32-c3787793d84c",
        "colab": {
          "base_uri": "https://localhost:8080/",
          "height": 198
        }
      },
      "source": [
        "print(mnist.train.labels[0:10])"
      ],
      "execution_count": 5,
      "outputs": [
        {
          "output_type": "stream",
          "text": [
            "[[0. 0. 0. 0. 0. 0. 0. 1. 0. 0.]\n",
            " [0. 0. 0. 1. 0. 0. 0. 0. 0. 0.]\n",
            " [0. 0. 0. 0. 1. 0. 0. 0. 0. 0.]\n",
            " [0. 0. 0. 0. 0. 0. 1. 0. 0. 0.]\n",
            " [0. 1. 0. 0. 0. 0. 0. 0. 0. 0.]\n",
            " [0. 0. 0. 0. 0. 0. 0. 0. 1. 0.]\n",
            " [0. 1. 0. 0. 0. 0. 0. 0. 0. 0.]\n",
            " [1. 0. 0. 0. 0. 0. 0. 0. 0. 0.]\n",
            " [0. 0. 0. 0. 0. 0. 0. 0. 0. 1.]\n",
            " [0. 0. 0. 0. 0. 0. 0. 0. 1. 0.]]\n"
          ],
          "name": "stdout"
        }
      ]
    },
    {
      "cell_type": "markdown",
      "metadata": {
        "id": "SQct9NqN2kmq",
        "colab_type": "text"
      },
      "source": [
        "### 01. 기본 옵션 설정"
      ]
    },
    {
      "cell_type": "code",
      "metadata": {
        "id": "hZnuglu52kmu",
        "colab_type": "code",
        "colab": {}
      },
      "source": [
        "total_epoch = 100       # epoch 수 설정\n",
        "batch_size = 100        # 배치 사이즈\n",
        "learning_rate = 0.0002  # 학습률\n",
        "\n",
        "# 신경망 레이어 구성 옵션\n",
        "n_hidden = 256          # 은닉층 노드\n",
        "n_input = 28 * 28       # 입력 \n",
        "n_noise = 128           # 생성기의 입력값으로 사용할 노이즈의 크기"
      ],
      "execution_count": 0,
      "outputs": []
    },
    {
      "cell_type": "markdown",
      "metadata": {
        "id": "N-ckcOkD2km8",
        "colab_type": "text"
      },
      "source": [
        "### 02. 신경망 모델 구성\n",
        " * **노이즈**를 이용하여 데이터 생성\n",
        " * 비지도학습이므로 목표(Y)가 없음"
      ]
    },
    {
      "cell_type": "code",
      "metadata": {
        "id": "Ij1e15ee2km_",
        "colab_type": "code",
        "colab": {}
      },
      "source": [
        "# GAN 도 Unsupervised 학습이므로 Autoencoder 처럼 Y 를 사용하지 않습니다.\n",
        "X = tf.placeholder(tf.float32, [None, n_input])\n",
        "\n",
        "# 노이즈 Z를 입력값으로 사용합니다.\n",
        "Z = tf.placeholder(tf.float32, [None, n_noise])"
      ],
      "execution_count": 0,
      "outputs": []
    },
    {
      "cell_type": "markdown",
      "metadata": {
        "id": "zJ9eRQMZ2knS",
        "colab_type": "text"
      },
      "source": [
        "### 생성자 신경망, 판별자 신경망 변수 선언"
      ]
    },
    {
      "cell_type": "code",
      "metadata": {
        "id": "qMKaGK8h2knZ",
        "colab_type": "code",
        "outputId": "edb11459-09d6-471c-9c93-0cb5eb31d522",
        "colab": {
          "base_uri": "https://localhost:8080/",
          "height": 53
        }
      },
      "source": [
        "# 생성자 신경망에 사용하는 변수(Weight, bias)\n",
        "G_W1 = tf.Variable(tf.random_normal([n_noise, n_hidden], stddev=0.01))\n",
        "G_b1 = tf.Variable(tf.zeros([n_hidden]))\n",
        "\n",
        "G_W2 = tf.Variable(tf.random_normal([n_hidden, n_input], stddev=0.01))\n",
        "G_b2 = tf.Variable(tf.zeros([n_input]))\n",
        "\n",
        "print(G_W1, G_W2)\n",
        "print(G_b1, G_b2)"
      ],
      "execution_count": 8,
      "outputs": [
        {
          "output_type": "stream",
          "text": [
            "<tf.Variable 'Variable:0' shape=(128, 256) dtype=float32_ref> <tf.Variable 'Variable_2:0' shape=(256, 784) dtype=float32_ref>\n",
            "<tf.Variable 'Variable_1:0' shape=(256,) dtype=float32_ref> <tf.Variable 'Variable_3:0' shape=(784,) dtype=float32_ref>\n"
          ],
          "name": "stdout"
        }
      ]
    },
    {
      "cell_type": "code",
      "metadata": {
        "id": "6qAwOAqS2knm",
        "colab_type": "code",
        "outputId": "c623249a-bb05-4ba9-df9f-6bc9f7742eba",
        "colab": {
          "base_uri": "https://localhost:8080/",
          "height": 53
        }
      },
      "source": [
        "# 판별기 신경망에 사용하는 변수들입니다.\n",
        "D_W1 = tf.Variable(tf.random_normal([n_input, n_hidden], stddev=0.01))\n",
        "D_b1 = tf.Variable(tf.zeros([n_hidden]))\n",
        "\n",
        "# 판별기의 최종 결과값은 얼마나 진짜와 가깝냐를 판단하는 한 개의 스칼라값입니다.\n",
        "D_W2 = tf.Variable(tf.random_normal([n_hidden, 1], stddev=0.01))\n",
        "D_b2 = tf.Variable(tf.zeros([1]))\n",
        "\n",
        "print(D_W1, D_W2)\n",
        "print(D_b1, D_b2)"
      ],
      "execution_count": 9,
      "outputs": [
        {
          "output_type": "stream",
          "text": [
            "<tf.Variable 'Variable_4:0' shape=(784, 256) dtype=float32_ref> <tf.Variable 'Variable_6:0' shape=(256, 1) dtype=float32_ref>\n",
            "<tf.Variable 'Variable_5:0' shape=(256,) dtype=float32_ref> <tf.Variable 'Variable_7:0' shape=(1,) dtype=float32_ref>\n"
          ],
          "name": "stdout"
        }
      ]
    },
    {
      "cell_type": "markdown",
      "metadata": {
        "id": "p89D4OkV2knz",
        "colab_type": "text"
      },
      "source": [
        "### 2-1 생성자(G) 신경망 구성\n",
        " * 무작위 생성한 노이즈를 받아, 가중치와 편향을 반영하여 은닉층 구성.\n",
        " * sigmoid 함수를 이용하여 최종 결과값 0~1 사이의 값 반환"
      ]
    },
    {
      "cell_type": "code",
      "metadata": {
        "id": "f-zk8RNr2kn2",
        "colab_type": "code",
        "colab": {}
      },
      "source": [
        "def generator(noise_z):\n",
        "    hidden = tf.nn.relu(\n",
        "                    tf.matmul(noise_z, G_W1) + G_b1)\n",
        "    output = tf.nn.sigmoid(\n",
        "                    tf.matmul(hidden, G_W2) + G_b2)\n",
        "\n",
        "    return output"
      ],
      "execution_count": 0,
      "outputs": []
    },
    {
      "cell_type": "markdown",
      "metadata": {
        "id": "RshUy_Sv2koD",
        "colab_type": "text"
      },
      "source": [
        "### 2-2 구분자(D) 신경망 구성\n",
        " * 구분자 신경망 구성, 가중치와 편향을 반영한 데이터 출력\n",
        " * sigmoid 함수를 이용하여 최종 결과값 0~1 사이의 값 반환"
      ]
    },
    {
      "cell_type": "code",
      "metadata": {
        "id": "8y9vkHer2koH",
        "colab_type": "code",
        "colab": {}
      },
      "source": [
        "def discriminator(inputs):\n",
        "    hidden = tf.nn.relu(\n",
        "                    tf.matmul(inputs, D_W1) + D_b1)\n",
        "    output = tf.nn.sigmoid(\n",
        "                    tf.matmul(hidden, D_W2) + D_b2)\n",
        "\n",
        "    return output"
      ],
      "execution_count": 0,
      "outputs": []
    },
    {
      "cell_type": "markdown",
      "metadata": {
        "id": "i-L1Yznx2koY",
        "colab_type": "text"
      },
      "source": [
        "### 2-3 생성자 신경망의 노이즈 발생을 위한 노이즈 생성 함수"
      ]
    },
    {
      "cell_type": "code",
      "metadata": {
        "id": "uCrJqZRa2koh",
        "colab_type": "code",
        "colab": {}
      },
      "source": [
        "# 랜덤한 노이즈(Z)를 만듭니다.\n",
        "def get_noise(batch_size, n_noise):\n",
        "    return np.random.normal(size=(batch_size, n_noise))"
      ],
      "execution_count": 0,
      "outputs": []
    },
    {
      "cell_type": "markdown",
      "metadata": {
        "id": "Vh1KuHdq2kov",
        "colab_type": "text"
      },
      "source": [
        "### 2-4 신경망 구성"
      ]
    },
    {
      "cell_type": "code",
      "metadata": {
        "id": "foVyxnUh2koy",
        "colab_type": "code",
        "outputId": "3ce73cb6-8948-47f3-bf3c-bab70c7706ac",
        "colab": {
          "base_uri": "https://localhost:8080/",
          "height": 71
        }
      },
      "source": [
        "# 노이즈를 이용해 랜덤한 이미지를 생성합니다.\n",
        "# Z에는 실행 시, noise가 입력됨.\n",
        "G = generator(Z)\n",
        "print(\"generator :\", G)\n",
        "\n",
        "# 판별자 신경망(구분자) 구성 - 생성된 이미지가 들어갈때\n",
        "# 노이즈를 이용해 생성한 이미지(G)가 진짜 이미지인지 판별한 값을 구합니다.\n",
        "D_fake = discriminator(G)\n",
        "print(\"discriminator use Noise Image:\", D_fake)\n",
        "\n",
        "# 판별자(구분자) 신경망 구성 - 실제 이미지 데이터\n",
        "# 진짜 이미지를 이용해(X) 판별한 값을 구합니다.\n",
        "D_real = discriminator(X)\n",
        "print(\"discriminator use Real Image:\", D_real)"
      ],
      "execution_count": 13,
      "outputs": [
        {
          "output_type": "stream",
          "text": [
            "generator : Tensor(\"Sigmoid:0\", shape=(?, 784), dtype=float32)\n",
            "discriminator use Noise Image: Tensor(\"Sigmoid_1:0\", shape=(?, 1), dtype=float32)\n",
            "discriminator use Real Image: Tensor(\"Sigmoid_2:0\", shape=(?, 1), dtype=float32)\n"
          ],
          "name": "stdout"
        }
      ]
    },
    {
      "cell_type": "markdown",
      "metadata": {
        "id": "m0KRKhLp2kpD",
        "colab_type": "text"
      },
      "source": [
        " * GAN은 생성자(Generator) : **구분자가 1로 예측하도록 하는 것을 목표**로 학습시킴. \n",
        " * GAN은 구분자(Discriminator) : **진짜 데이터를 받으면 1**로 **가짜 데이터를 받으면 0으로 예측**하도록 학습시킴."
      ]
    },
    {
      "cell_type": "markdown",
      "metadata": {
        "id": "QBeI4nZp2kpG",
        "colab_type": "text"
      },
      "source": [
        "### GAN의 모델의 손실함수와 최적화 함수\n",
        " * 두개의 손실값이 필요\n",
        "   * 위조 지폐 판단 - D_fake (생성된 이미지에 대한 신경망)\n",
        "   * 진품 판단 - D_real(실제 이미지에 대한 신경망)\n",
        "\n",
        "### 경찰을 학습시키려면 \n",
        "  * D_fake(가짜판단)은 최대한 0에 가깝게, D_real(진품 판단)은 최대한 1에 가깝게\n",
        "\n",
        " * 수식 표현\n",
        "   * 신경망에서는 보통 비용함수, 손실함수라고 한다. 하지만 GAN에서는 이 손실함수 또는 비용함수를 극대화하므로 개인적으로 이를 **trust로 하여 신뢰도**라고 표기를 하겠음.\n",
        "   * trust_D = tf.log(진품판단값) + tf.log(1 - 가짜판단값)의 평균\n",
        "   * trust_D는 D_real이 1에 가까워지고, D_fake가 0에 가까워지면 값은 커지게 된다.\n"
      ]
    },
    {
      "cell_type": "code",
      "metadata": {
        "id": "0pwS5bcxlG-O",
        "colab_type": "code",
        "colab": {
          "base_uri": "https://localhost:8080/",
          "height": 35
        },
        "outputId": "47d7bfd0-45fc-485d-c3a5-d72292efea6c"
      },
      "source": [
        "sess = tf.Session()\n",
        "sess.run(tf.global_variables_initializer())\n",
        "a = sess.run(tf.log(1.0))   # log는 1에 가까워질수록 0에 가까워지고,\n",
        "b = sess.run(tf.log(0.0))   # log가 0에 가까워질수록 -무한대로 가게 된다.\n",
        "c = sess.run(tf.log(0.1))   \n",
        "sess.close()\n",
        "print(a,b,c)"
      ],
      "execution_count": 14,
      "outputs": [
        {
          "output_type": "stream",
          "text": [
            "0.0 -inf -2.3025851\n"
          ],
          "name": "stdout"
        }
      ]
    },
    {
      "cell_type": "code",
      "metadata": {
        "id": "cSbO9bQ22kpK",
        "colab_type": "code",
        "colab": {}
      },
      "source": [
        "# 가장 큰 값을 갖게 되는 것은 D_real가 1에 가까워지고, 1-D_fake가 1에 가까워질때.\n",
        "# trust_D가 크도록 학습시켜 가야 함. (판별기 신경망의 신뢰도-비용함수)\n",
        "# 진짜 이미지 넣을 때는 크도록 값을 하고, 가짜 이미지를 넣을 때는 반대의 경우가 커야 하므로 아래와 같이 지정하여 계산)\n",
        "trust_D = tf.reduce_mean(tf.log(D_real) + tf.log(1 - D_fake))"
      ],
      "execution_count": 0,
      "outputs": []
    },
    {
      "cell_type": "markdown",
      "metadata": {
        "id": "mEo9rfgbjKl8",
        "colab_type": "text"
      },
      "source": [
        "### 위조 지폐범 학습\n",
        "   * D_fake(가짜판단)를 최대한 1에 가깝게 하기\n",
        "   * 수식 표현 : trust_G = tf.log(D_fake)의 평균값"
      ]
    },
    {
      "cell_type": "code",
      "metadata": {
        "id": "UKCk58qwkCrO",
        "colab_type": "code",
        "colab": {}
      },
      "source": [
        "# 결국 D_fake 값을 1에 가깝게 새로운 이미지를 생성하는 것이 위조지폐범의 목표이므로,\n",
        "# trust_G를 큰 값을 가지도록 학습시키는 것이 목표임.\n",
        "# 생성망 신경망의 비용함수(생성망 신경망의 신뢰도)는\n",
        "# 가짜 이미지 넣을 때의 신경망의 값이 최대한 1에 가깝게 해야 하므로 아래와 같이 지정하여 계산)\n",
        "trust_G = tf.reduce_mean(tf.log(D_fake))"
      ],
      "execution_count": 0,
      "outputs": []
    },
    {
      "cell_type": "markdown",
      "metadata": {
        "id": "gZXAwnZs2kpW",
        "colab_type": "text"
      },
      "source": [
        "### GAN의 학습은 최종적으로\n",
        "  * trust_D (경찰)의 학습을 통해 값을 최대화 (값을 크게)\n",
        "  * trust_G (위조지폐범)의 학습을 통해 값을 최대화 (값을 크게)\n",
        "\n",
        "* 각각의 신경망의 비용함수(손실함수)인 trust_G와 trust_D를 최대화 하는 것. \n",
        "   * 단, 서로의 손실이 연관되어 있어, 두 손실값이 같이 증가가 어려움."
      ]
    },
    {
      "cell_type": "code",
      "metadata": {
        "id": "-j4qR1kq2kpv",
        "colab_type": "code",
        "colab": {}
      },
      "source": [
        "# trust_D 를 구할 때는 판별기 신경망에 사용되는 변수만 사용하고,\n",
        "# trust_G 를 구할 때는 생성기 신경망에 사용되는 변수만 사용하여 최적화를 합니다.\n",
        "D_var_list = [D_W1, D_b1, D_W2, D_b2]\n",
        "G_var_list = [G_W1, G_b1, G_W2, G_b2]"
      ],
      "execution_count": 0,
      "outputs": []
    },
    {
      "cell_type": "code",
      "metadata": {
        "id": "qMAsOUpR2kp9",
        "colab_type": "code",
        "outputId": "0224b9bd-39a6-45a2-e58f-df2657ceb7be",
        "colab": {
          "base_uri": "https://localhost:8080/",
          "height": 343
        }
      },
      "source": [
        "# GAN 논문의 수식에 따르면 비용함수를 극대화 해야하지만, \n",
        "# 텐서플로워에서 minimize 하는 최적화 함수를 사용하기 때문에\n",
        "# 최적화 하려는 trust_D 와 trust_G 에 음수 부호를 붙여줍니다.\n",
        "train_D = tf.train.AdamOptimizer(learning_rate).minimize(-trust_D,\n",
        "                                                         var_list=D_var_list)\n",
        "train_G = tf.train.AdamOptimizer(learning_rate).minimize(-trust_G,\n",
        "                                                         var_list=G_var_list)\n",
        "\n",
        "print(train_D)\n",
        "print(train_G)"
      ],
      "execution_count": 18,
      "outputs": [
        {
          "output_type": "stream",
          "text": [
            "name: \"Adam\"\n",
            "op: \"NoOp\"\n",
            "input: \"^Adam/update_Variable_4/ApplyAdam\"\n",
            "input: \"^Adam/update_Variable_5/ApplyAdam\"\n",
            "input: \"^Adam/update_Variable_6/ApplyAdam\"\n",
            "input: \"^Adam/update_Variable_7/ApplyAdam\"\n",
            "input: \"^Adam/Assign\"\n",
            "input: \"^Adam/Assign_1\"\n",
            "\n",
            "name: \"Adam_1\"\n",
            "op: \"NoOp\"\n",
            "input: \"^Adam_1/update_Variable/ApplyAdam\"\n",
            "input: \"^Adam_1/update_Variable_1/ApplyAdam\"\n",
            "input: \"^Adam_1/update_Variable_2/ApplyAdam\"\n",
            "input: \"^Adam_1/update_Variable_3/ApplyAdam\"\n",
            "input: \"^Adam_1/Assign\"\n",
            "input: \"^Adam_1/Assign_1\"\n",
            "\n"
          ],
          "name": "stdout"
        }
      ]
    },
    {
      "cell_type": "markdown",
      "metadata": {
        "id": "Q3kMTD5T2kqH",
        "colab_type": "text"
      },
      "source": [
        "### 03. 모델 학습"
      ]
    },
    {
      "cell_type": "code",
      "metadata": {
        "id": "sFq6kiPV2kqL",
        "colab_type": "code",
        "colab": {}
      },
      "source": [
        "sess = tf.Session()\n",
        "sess.run(tf.global_variables_initializer())\n",
        "\n",
        "total_batch = int(mnist.train.num_examples/batch_size)\n",
        "trust_val_D, trust_val_G = 0, 0"
      ],
      "execution_count": 0,
      "outputs": []
    },
    {
      "cell_type": "markdown",
      "metadata": {
        "id": "hdaKmYmi2kqY",
        "colab_type": "text"
      },
      "source": [
        "* 학습 후, 학습되는 이미지 저장을 위해 실행되는 위치에 '/samples'라는 디렉터리(폴더) 생성이 필요함."
      ]
    },
    {
      "cell_type": "code",
      "metadata": {
        "scrolled": true,
        "id": "wP6ZuyZ72kqb",
        "colab_type": "code",
        "outputId": "0faa75d6-5b46-45ee-93be-eb2098a3d390",
        "colab": {
          "base_uri": "https://localhost:8080/",
          "height": 1000
        }
      },
      "source": [
        "%%time\n",
        "\n",
        "for epoch in range(total_epoch):\n",
        "    for i in range(total_batch):\n",
        "        batch_xs, batch_ys = mnist.train.next_batch(batch_size)\n",
        "        noise = get_noise(batch_size, n_noise)\n",
        "\n",
        "        # 판별기와 생성기 신경망을 각각 학습시킵니다.\n",
        "        _, trust_val_D = sess.run([train_D, trust_D],\n",
        "                                 feed_dict={X: batch_xs, Z: noise})\n",
        "        _, trust_val_G = sess.run([train_G, trust_G],\n",
        "                                 feed_dict={Z: noise})\n",
        "\n",
        "    print('Epoch:', '%04d' % epoch,\n",
        "          '경찰(D) 신뢰도(trust): {:.4}'.format(trust_val_D),\n",
        "          '위조지폐범(G) 신뢰도(trust): {:.4}'.format(trust_val_G))\n",
        "                                 \n",
        "    #########\n",
        "    # 학습이 되어가는 모습을 보기 위해 주기적으로 이미지를 생성하여 저장\n",
        "    ######\n",
        "    if epoch == 0 or (epoch + 1) % 10 == 0:\n",
        "        sample_size = 10\n",
        "        noise = get_noise(sample_size, n_noise)\n",
        "        samples = sess.run(G, feed_dict={Z: noise})\n",
        "\n",
        "        fig, ax = plt.subplots(1, sample_size, figsize=(sample_size, 1))\n",
        "\n",
        "        for i in range(sample_size):\n",
        "            ax[i].set_axis_off()\n",
        "            ax[i].imshow(np.reshape(samples[i], (28, 28)))\n",
        "\n",
        "        plt.savefig('samples/{}.png'.format(str(epoch).zfill(3)), bbox_inches='tight')\n",
        "        plt.close(fig)\n",
        "\n",
        "print('최적화 완료!')"
      ],
      "execution_count": 20,
      "outputs": [
        {
          "output_type": "stream",
          "text": [
            "Epoch: 0000 경찰(D) 신뢰도(trust): -0.4006 위조지폐범(G) 신뢰도(trust): -2.243\n",
            "Epoch: 0001 경찰(D) 신뢰도(trust): -0.3384 위조지폐범(G) 신뢰도(trust): -2.434\n",
            "Epoch: 0002 경찰(D) 신뢰도(trust): -0.1236 위조지폐범(G) 신뢰도(trust): -3.11\n",
            "Epoch: 0003 경찰(D) 신뢰도(trust): -0.678 위조지폐범(G) 신뢰도(trust): -1.552\n",
            "Epoch: 0004 경찰(D) 신뢰도(trust): -0.3229 위조지폐범(G) 신뢰도(trust): -2.156\n",
            "Epoch: 0005 경찰(D) 신뢰도(trust): -0.4149 위조지폐범(G) 신뢰도(trust): -2.385\n",
            "Epoch: 0006 경찰(D) 신뢰도(trust): -0.2632 위조지폐범(G) 신뢰도(trust): -2.746\n",
            "Epoch: 0007 경찰(D) 신뢰도(trust): -0.2964 위조지폐범(G) 신뢰도(trust): -2.527\n",
            "Epoch: 0008 경찰(D) 신뢰도(trust): -0.3429 위조지폐범(G) 신뢰도(trust): -2.495\n",
            "Epoch: 0009 경찰(D) 신뢰도(trust): -0.2209 위조지폐범(G) 신뢰도(trust): -2.797\n",
            "Epoch: 0010 경찰(D) 신뢰도(trust): -0.3182 위조지폐범(G) 신뢰도(trust): -2.411\n",
            "Epoch: 0011 경찰(D) 신뢰도(trust): -0.2695 위조지폐범(G) 신뢰도(trust): -2.899\n",
            "Epoch: 0012 경찰(D) 신뢰도(trust): -0.2217 위조지폐범(G) 신뢰도(trust): -2.805\n",
            "Epoch: 0013 경찰(D) 신뢰도(trust): -0.2691 위조지폐범(G) 신뢰도(trust): -3.188\n",
            "Epoch: 0014 경찰(D) 신뢰도(trust): -0.4097 위조지폐범(G) 신뢰도(trust): -2.341\n",
            "Epoch: 0015 경찰(D) 신뢰도(trust): -0.3036 위조지폐범(G) 신뢰도(trust): -2.653\n",
            "Epoch: 0016 경찰(D) 신뢰도(trust): -0.3162 위조지폐범(G) 신뢰도(trust): -2.778\n",
            "Epoch: 0017 경찰(D) 신뢰도(trust): -0.4702 위조지폐범(G) 신뢰도(trust): -2.503\n",
            "Epoch: 0018 경찰(D) 신뢰도(trust): -0.2716 위조지폐범(G) 신뢰도(trust): -2.584\n",
            "Epoch: 0019 경찰(D) 신뢰도(trust): -0.3406 위조지폐범(G) 신뢰도(trust): -2.905\n",
            "Epoch: 0020 경찰(D) 신뢰도(trust): -0.48 위조지폐범(G) 신뢰도(trust): -2.199\n",
            "Epoch: 0021 경찰(D) 신뢰도(trust): -0.42 위조지폐범(G) 신뢰도(trust): -2.473\n",
            "Epoch: 0022 경찰(D) 신뢰도(trust): -0.4922 위조지폐범(G) 신뢰도(trust): -2.333\n",
            "Epoch: 0023 경찰(D) 신뢰도(trust): -0.4161 위조지폐범(G) 신뢰도(trust): -2.537\n",
            "Epoch: 0024 경찰(D) 신뢰도(trust): -0.4232 위조지폐범(G) 신뢰도(trust): -2.784\n",
            "Epoch: 0025 경찰(D) 신뢰도(trust): -0.4706 위조지폐범(G) 신뢰도(trust): -2.413\n",
            "Epoch: 0026 경찰(D) 신뢰도(trust): -0.5307 위조지폐범(G) 신뢰도(trust): -2.226\n",
            "Epoch: 0027 경찰(D) 신뢰도(trust): -0.4798 위조지폐범(G) 신뢰도(trust): -2.303\n",
            "Epoch: 0028 경찰(D) 신뢰도(trust): -0.5089 위조지폐범(G) 신뢰도(trust): -2.548\n",
            "Epoch: 0029 경찰(D) 신뢰도(trust): -0.3624 위조지폐범(G) 신뢰도(trust): -2.55\n",
            "Epoch: 0030 경찰(D) 신뢰도(trust): -0.469 위조지폐범(G) 신뢰도(trust): -2.294\n",
            "Epoch: 0031 경찰(D) 신뢰도(trust): -0.6125 위조지폐범(G) 신뢰도(trust): -2.457\n",
            "Epoch: 0032 경찰(D) 신뢰도(trust): -0.4042 위조지폐범(G) 신뢰도(trust): -2.253\n",
            "Epoch: 0033 경찰(D) 신뢰도(trust): -0.5733 위조지폐범(G) 신뢰도(trust): -2.604\n",
            "Epoch: 0034 경찰(D) 신뢰도(trust): -0.4106 위조지폐범(G) 신뢰도(trust): -2.678\n",
            "Epoch: 0035 경찰(D) 신뢰도(trust): -0.48 위조지폐범(G) 신뢰도(trust): -2.77\n",
            "Epoch: 0036 경찰(D) 신뢰도(trust): -0.5688 위조지폐범(G) 신뢰도(trust): -2.652\n",
            "Epoch: 0037 경찰(D) 신뢰도(trust): -0.5661 위조지폐범(G) 신뢰도(trust): -2.529\n",
            "Epoch: 0038 경찰(D) 신뢰도(trust): -0.6941 위조지폐범(G) 신뢰도(trust): -2.681\n",
            "Epoch: 0039 경찰(D) 신뢰도(trust): -0.555 위조지폐범(G) 신뢰도(trust): -2.299\n",
            "Epoch: 0040 경찰(D) 신뢰도(trust): -0.5843 위조지폐범(G) 신뢰도(trust): -2.265\n",
            "Epoch: 0041 경찰(D) 신뢰도(trust): -0.6182 위조지폐범(G) 신뢰도(trust): -2.195\n",
            "Epoch: 0042 경찰(D) 신뢰도(trust): -0.5978 위조지폐범(G) 신뢰도(trust): -2.123\n",
            "Epoch: 0043 경찰(D) 신뢰도(trust): -0.5892 위조지폐범(G) 신뢰도(trust): -2.585\n",
            "Epoch: 0044 경찰(D) 신뢰도(trust): -0.7127 위조지폐범(G) 신뢰도(trust): -2.078\n",
            "Epoch: 0045 경찰(D) 신뢰도(trust): -0.6978 위조지폐범(G) 신뢰도(trust): -2.064\n",
            "Epoch: 0046 경찰(D) 신뢰도(trust): -0.785 위조지폐범(G) 신뢰도(trust): -2.033\n",
            "Epoch: 0047 경찰(D) 신뢰도(trust): -0.6875 위조지폐범(G) 신뢰도(trust): -2.191\n",
            "Epoch: 0048 경찰(D) 신뢰도(trust): -0.6572 위조지폐범(G) 신뢰도(trust): -1.88\n",
            "Epoch: 0049 경찰(D) 신뢰도(trust): -0.725 위조지폐범(G) 신뢰도(trust): -2.08\n",
            "Epoch: 0050 경찰(D) 신뢰도(trust): -0.656 위조지폐범(G) 신뢰도(trust): -2.098\n",
            "Epoch: 0051 경찰(D) 신뢰도(trust): -0.6643 위조지폐범(G) 신뢰도(trust): -2.002\n",
            "Epoch: 0052 경찰(D) 신뢰도(trust): -0.8311 위조지폐범(G) 신뢰도(trust): -1.891\n",
            "Epoch: 0053 경찰(D) 신뢰도(trust): -0.6671 위조지폐범(G) 신뢰도(trust): -1.958\n",
            "Epoch: 0054 경찰(D) 신뢰도(trust): -0.7944 위조지폐범(G) 신뢰도(trust): -1.911\n",
            "Epoch: 0055 경찰(D) 신뢰도(trust): -0.7631 위조지폐범(G) 신뢰도(trust): -1.973\n",
            "Epoch: 0056 경찰(D) 신뢰도(trust): -0.7651 위조지폐범(G) 신뢰도(trust): -1.792\n",
            "Epoch: 0057 경찰(D) 신뢰도(trust): -0.8929 위조지폐범(G) 신뢰도(trust): -1.765\n",
            "Epoch: 0058 경찰(D) 신뢰도(trust): -0.9775 위조지폐범(G) 신뢰도(trust): -1.636\n",
            "Epoch: 0059 경찰(D) 신뢰도(trust): -0.8419 위조지폐범(G) 신뢰도(trust): -1.83\n",
            "Epoch: 0060 경찰(D) 신뢰도(trust): -0.8518 위조지폐범(G) 신뢰도(trust): -1.934\n",
            "Epoch: 0061 경찰(D) 신뢰도(trust): -0.7378 위조지폐범(G) 신뢰도(trust): -1.893\n",
            "Epoch: 0062 경찰(D) 신뢰도(trust): -0.9223 위조지폐범(G) 신뢰도(trust): -1.834\n",
            "Epoch: 0063 경찰(D) 신뢰도(trust): -0.7451 위조지폐범(G) 신뢰도(trust): -1.869\n",
            "Epoch: 0064 경찰(D) 신뢰도(trust): -0.9685 위조지폐범(G) 신뢰도(trust): -1.951\n",
            "Epoch: 0065 경찰(D) 신뢰도(trust): -0.7858 위조지폐범(G) 신뢰도(trust): -1.673\n",
            "Epoch: 0066 경찰(D) 신뢰도(trust): -0.9277 위조지폐범(G) 신뢰도(trust): -1.686\n",
            "Epoch: 0067 경찰(D) 신뢰도(trust): -0.8654 위조지폐범(G) 신뢰도(trust): -1.595\n",
            "Epoch: 0068 경찰(D) 신뢰도(trust): -0.922 위조지폐범(G) 신뢰도(trust): -1.934\n",
            "Epoch: 0069 경찰(D) 신뢰도(trust): -0.9745 위조지폐범(G) 신뢰도(trust): -1.615\n",
            "Epoch: 0070 경찰(D) 신뢰도(trust): -0.7545 위조지폐범(G) 신뢰도(trust): -1.748\n",
            "Epoch: 0071 경찰(D) 신뢰도(trust): -0.8884 위조지폐범(G) 신뢰도(trust): -1.605\n",
            "Epoch: 0072 경찰(D) 신뢰도(trust): -0.8703 위조지폐범(G) 신뢰도(trust): -1.631\n",
            "Epoch: 0073 경찰(D) 신뢰도(trust): -0.9514 위조지폐범(G) 신뢰도(trust): -1.63\n",
            "Epoch: 0074 경찰(D) 신뢰도(trust): -0.7446 위조지폐범(G) 신뢰도(trust): -2.038\n",
            "Epoch: 0075 경찰(D) 신뢰도(trust): -0.9349 위조지폐범(G) 신뢰도(trust): -1.613\n",
            "Epoch: 0076 경찰(D) 신뢰도(trust): -0.8275 위조지폐범(G) 신뢰도(trust): -1.798\n",
            "Epoch: 0077 경찰(D) 신뢰도(trust): -0.727 위조지폐범(G) 신뢰도(trust): -1.648\n",
            "Epoch: 0078 경찰(D) 신뢰도(trust): -0.8612 위조지폐범(G) 신뢰도(trust): -1.736\n",
            "Epoch: 0079 경찰(D) 신뢰도(trust): -0.8643 위조지폐범(G) 신뢰도(trust): -1.731\n",
            "Epoch: 0080 경찰(D) 신뢰도(trust): -0.8139 위조지폐범(G) 신뢰도(trust): -1.757\n",
            "Epoch: 0081 경찰(D) 신뢰도(trust): -0.8074 위조지폐범(G) 신뢰도(trust): -1.57\n",
            "Epoch: 0082 경찰(D) 신뢰도(trust): -0.8113 위조지폐범(G) 신뢰도(trust): -1.617\n",
            "Epoch: 0083 경찰(D) 신뢰도(trust): -0.7665 위조지폐범(G) 신뢰도(trust): -1.682\n",
            "Epoch: 0084 경찰(D) 신뢰도(trust): -0.7575 위조지폐범(G) 신뢰도(trust): -1.699\n",
            "Epoch: 0085 경찰(D) 신뢰도(trust): -0.8399 위조지폐범(G) 신뢰도(trust): -1.748\n",
            "Epoch: 0086 경찰(D) 신뢰도(trust): -0.8632 위조지폐범(G) 신뢰도(trust): -1.845\n",
            "Epoch: 0087 경찰(D) 신뢰도(trust): -0.7912 위조지폐범(G) 신뢰도(trust): -1.878\n",
            "Epoch: 0088 경찰(D) 신뢰도(trust): -0.8835 위조지폐범(G) 신뢰도(trust): -1.77\n",
            "Epoch: 0089 경찰(D) 신뢰도(trust): -0.8119 위조지폐범(G) 신뢰도(trust): -1.611\n",
            "Epoch: 0090 경찰(D) 신뢰도(trust): -0.7643 위조지폐범(G) 신뢰도(trust): -1.732\n",
            "Epoch: 0091 경찰(D) 신뢰도(trust): -0.796 위조지폐범(G) 신뢰도(trust): -1.618\n",
            "Epoch: 0092 경찰(D) 신뢰도(trust): -0.8649 위조지폐범(G) 신뢰도(trust): -1.88\n",
            "Epoch: 0093 경찰(D) 신뢰도(trust): -0.8371 위조지폐범(G) 신뢰도(trust): -1.697\n",
            "Epoch: 0094 경찰(D) 신뢰도(trust): -0.8752 위조지폐범(G) 신뢰도(trust): -1.664\n",
            "Epoch: 0095 경찰(D) 신뢰도(trust): -0.8356 위조지폐범(G) 신뢰도(trust): -1.8\n",
            "Epoch: 0096 경찰(D) 신뢰도(trust): -0.8909 위조지폐범(G) 신뢰도(trust): -1.481\n",
            "Epoch: 0097 경찰(D) 신뢰도(trust): -0.8535 위조지폐범(G) 신뢰도(trust): -1.761\n",
            "Epoch: 0098 경찰(D) 신뢰도(trust): -0.8128 위조지폐범(G) 신뢰도(trust): -1.819\n",
            "Epoch: 0099 경찰(D) 신뢰도(trust): -0.6726 위조지폐범(G) 신뢰도(trust): -1.809\n",
            "최적화 완료!\n",
            "CPU times: user 4min 5s, sys: 13.8 s, total: 4min 19s\n",
            "Wall time: 3min 17s\n"
          ],
          "name": "stdout"
        }
      ]
    },
    {
      "cell_type": "markdown",
      "metadata": {
        "id": "FJ77hAo62kqr",
        "colab_type": "text"
      },
      "source": [
        "### REF \n",
        "* GAN에 대한 논문 : https://arxiv.org/abs/1406.2661"
      ]
    },
    {
      "cell_type": "markdown",
      "metadata": {
        "id": "Ahcwrorz2kqw",
        "colab_type": "text"
      },
      "source": [
        "Copyright 2020 LIM Co.(예영Edu Co.) all rights reserved. <br>\n",
        "교육용으로 작성된 것으로 배포 및 복제시에 사전 허가가 필요합니다. <br>"
      ]
    }
  ]
}